{
  "nbformat": 4,
  "nbformat_minor": 0,
  "metadata": {
    "colab": {
      "provenance": [],
      "authorship_tag": "ABX9TyPav2I8CTO1+qnW2jfDyajZ",
      "include_colab_link": true
    },
    "kernelspec": {
      "name": "python3",
      "display_name": "Python 3"
    },
    "language_info": {
      "name": "python"
    }
  },
  "cells": [
    {
      "cell_type": "markdown",
      "metadata": {
        "id": "view-in-github",
        "colab_type": "text"
      },
      "source": [
        "<a href=\"https://colab.research.google.com/github/tharun067/python_problems/blob/main/NLPAD_9.ipynb\" target=\"_parent\"><img src=\"https://colab.research.google.com/assets/colab-badge.svg\" alt=\"Open In Colab\"/></a>"
      ]
    },
    {
      "cell_type": "code",
      "execution_count": 9,
      "metadata": {
        "colab": {
          "base_uri": "https://localhost:8080/"
        },
        "id": "2NL5nQ26JGif",
        "outputId": "495f31af-f286-4320-e4a9-8565bbcacd4c"
      },
      "outputs": [
        {
          "output_type": "stream",
          "name": "stdout",
          "text": [
            "Requirement already satisfied: python-docx in /usr/local/lib/python3.11/dist-packages (1.1.2)\n",
            "Requirement already satisfied: lxml>=3.1.0 in /usr/local/lib/python3.11/dist-packages (from python-docx) (5.3.0)\n",
            "Requirement already satisfied: typing-extensions>=4.9.0 in /usr/local/lib/python3.11/dist-packages (from python-docx) (4.12.2)\n"
          ]
        }
      ],
      "source": [
        "!pip install python-docx"
      ]
    },
    {
      "cell_type": "code",
      "source": [
        "import docx"
      ],
      "metadata": {
        "id": "kp6Lfq3-JOmU"
      },
      "execution_count": 12,
      "outputs": []
    },
    {
      "cell_type": "code",
      "source": [
        "doc = open(\"/content/Literature Survey.docx\",\"rb\")\n",
        "document = docx.Document(doc)"
      ],
      "metadata": {
        "id": "-LAVaj_nJYR7"
      },
      "execution_count": 14,
      "outputs": []
    },
    {
      "cell_type": "code",
      "source": [
        "docu=\"\"\n",
        "for para in document.paragraphs:\n",
        "  docu+=para.text\n",
        "print(docu)"
      ],
      "metadata": {
        "colab": {
          "base_uri": "https://localhost:8080/"
        },
        "id": "I8TQujptJlhk",
        "outputId": "f063141a-76c0-40ba-a845-745b9eedaa9d"
      },
      "execution_count": 15,
      "outputs": [
        {
          "output_type": "stream",
          "name": "stdout",
          "text": [
            "--------------------------------------------------------------------------------------------------DEPARTMENT OF AI&MLIII Year B.Tech. -II SemesterName of Examination: Application Development – Natural Language Processing & IOT explore (MR22-1CS0264)Section: BETA(BT-2)-----------------------------------------------------------------------------------------------------------Literature Survey for SmartPantry: Automated Stock and Shopping ManagerIntroductionThe Internet of Things (IoT) plays a transformative role in automating inventory tracking and management. IoT systems leverage sensors, microcontrollers, and real-time data transfer to enhance efficiency and reduce human dependency. This literature survey focuses on IoT-specific applications relevant to SmartPantry, detailing existing systems, their components, methodologies, and references for designing a cost-effective, scalable IoT solution.Existing IoT-Based Inventory Management SystemsSmart Shelves with Weight SensorsSmart shelves use load cells to detect weight changes, enabling real-time stock monitoring.System: IoT Smart ShelvesTechnology: Load cells, connected to microcontrollers like ESP32, measure the weight of items. The data is sent to a cloud platform or local server.Example: Retail stores use smart shelves to automate inventory tracking. If stock levels fall below a threshold, the system sends notifications for replenishment.Advantages:Real-time monitoring of inventory levels.Reduces manual errors and labor costs.Limitations:Limited scalability due to the complexity of integrating large volumes of sensors.In some cases, weight alone may not provide detailed insights (e.g., differentiation of similar products).References Taken:“Real-Time Inventory Tracking Using Load Sensors in IoT” (2021) outlines how smart shelves can be designed using load cells and IoT platforms.RFID-Enabled Tracking SystemsRFID (Radio Frequency Identification) technology is widely used for tracking the presence and movement of items.System: RFID-Based Inventory ManagementTechnology: RFID tags attached to products communicate with RFID readers to identify the presence or absence of specific items.Example: Retailers like Walmart use RFID to monitor stock levels and optimize supply chains.Advantages: Accurate identification of individual items.Can detect movement, such as when an item is removed from or added to the shelf.Limitations:Higher implementation costs compared to other IoT systems.Requires line-of-sight for optimal performance.References Taken:“RFID in Retail and Inventory Management” (2020) discusses the integration of RFID with IoT systems for effective inventory tracking.IoT for Food Stock MonitoringIoT systems tailored for food stock management focus on reducing waste and monitoring perishable items.System: IoT-Driven Food Stock ManagementTechnology: Sensors like humidity, temperature, and weight sensors monitor food items to prevent spoilage.Example: IoT-powered systems are used in smart refrigerators and pantries to notify users of expiring items.Advantages:Helps reduce food wastage.Provides real-time alerts about spoilage risks.Limitations:Requires integration with additional sensors, which may increase complexity.Dependence on stable internet connectivity.References Taken:“IoT for Food Management and Waste Reduction” (2021) discusses how IoT can track perishable goods and improve sustainability.Gaps in Existing IoT SystemsThe following gaps were identified in existing IoT systems for inventory management:Cost Efficiency:Systems using RFID or high-end cloud platforms are often too expensive for small businesses or average households.Scalability:Existing IoT setups are not always designed for seamless scalability, limiting their use in growing businesses or larger households.Limited Context Awareness:IoT systems often rely on static thresholds (e.g., weight limits) and do not account for dynamic changes like user consumption patterns.Integration with Other Technologies:Many systems lack integration with NLP or mobile apps, reducing their usability and accessibility.References Taken for IoT Design in SmartPantryIoT Hardware:“IoT-Based Smart Shelves: Applications in Retail” (2020) for leveraging load cells and ESP32 microcontrollers.“RFID Technology in Inventory Control Systems” (2020) for understanding RFID applications.Cloud Integration:“IoT-Cloud Integration for Inventory Tracking” (2021) for insights into AWS IoT Core and Google Cloud IoT.Sustainable Practices:“IoT Solutions for Food Waste Reduction” (2021) for incorporating features like expiry notifications.General IoT Applications:“Applications of IoT in Smart Home Automation” (2020) for understanding the role of IoT in everyday inventory management.ConclusionIoT-based systems for inventory management offer real-time tracking, enhanced automation, and waste reduction. However, existing solutions often face challenges in cost-effectiveness, scalability, and integration. The SmartPantry system addresses these gaps by leveraging cost-efficient IoT components (e.g., ESP32, load cells) and integrating them with cloud platforms for real-time monitoring and notifications. The insights from the above references have guided the development of a scalable and user-friendly IoT-based inventory management system.\n"
          ]
        }
      ]
    },
    {
      "cell_type": "code",
      "source": [
        "for i in range(len(document.paragraphs)):\n",
        "  print(\"The content of the paragraph \"+str(i)+\"is: \"+document.paragraphs[i].text+\"\\n\")"
      ],
      "metadata": {
        "colab": {
          "base_uri": "https://localhost:8080/"
        },
        "id": "IGwUSrhtLCh5",
        "outputId": "eab6ec26-2e95-47b6-cdc3-287c5a950899"
      },
      "execution_count": 16,
      "outputs": [
        {
          "output_type": "stream",
          "name": "stdout",
          "text": [
            "The content of the paragraph 0is: \n",
            "\n",
            "The content of the paragraph 1is: \n",
            "\n",
            "The content of the paragraph 2is: \n",
            "\n",
            "The content of the paragraph 3is: --------------------------------------------------------------------------------------------------\n",
            "\n",
            "The content of the paragraph 4is: DEPARTMENT OF AI&ML\n",
            "\n",
            "The content of the paragraph 5is: III Year B.Tech. -II Semester\n",
            "\n",
            "The content of the paragraph 6is: Name of Examination: Application Development – Natural Language Processing & IOT explore (MR22-1CS0264)\n",
            "\n",
            "The content of the paragraph 7is: Section: BETA(BT-2)\n",
            "\n",
            "The content of the paragraph 8is: -----------------------------------------------------------------------------------------------------------\n",
            "\n",
            "The content of the paragraph 9is: \n",
            "\n",
            "The content of the paragraph 10is: Literature Survey for SmartPantry: Automated Stock and Shopping Manager\n",
            "\n",
            "The content of the paragraph 11is: Introduction\n",
            "\n",
            "The content of the paragraph 12is: The Internet of Things (IoT) plays a transformative role in automating inventory tracking and management. IoT systems leverage sensors, microcontrollers, and real-time data transfer to enhance efficiency and reduce human dependency. This literature survey focuses on IoT-specific applications relevant to SmartPantry, detailing existing systems, their components, methodologies, and references for designing a cost-effective, scalable IoT solution.\n",
            "\n",
            "The content of the paragraph 13is: Existing IoT-Based Inventory Management Systems\n",
            "\n",
            "The content of the paragraph 14is: Smart Shelves with Weight Sensors\n",
            "\n",
            "The content of the paragraph 15is: Smart shelves use load cells to detect weight changes, enabling real-time stock monitoring.\n",
            "\n",
            "The content of the paragraph 16is: System: IoT Smart Shelves\n",
            "\n",
            "The content of the paragraph 17is: Technology: Load cells, connected to microcontrollers like ESP32, measure the weight of items. The data is sent to a cloud platform or local server.\n",
            "\n",
            "The content of the paragraph 18is: Example: Retail stores use smart shelves to automate inventory tracking. If stock levels fall below a threshold, the system sends notifications for replenishment.\n",
            "\n",
            "The content of the paragraph 19is: Advantages:\n",
            "\n",
            "The content of the paragraph 20is: Real-time monitoring of inventory levels.\n",
            "\n",
            "The content of the paragraph 21is: Reduces manual errors and labor costs.\n",
            "\n",
            "The content of the paragraph 22is: Limitations:\n",
            "\n",
            "The content of the paragraph 23is: Limited scalability due to the complexity of integrating large volumes of sensors.\n",
            "\n",
            "The content of the paragraph 24is: In some cases, weight alone may not provide detailed insights (e.g., differentiation of similar products).\n",
            "\n",
            "The content of the paragraph 25is: References Taken:\n",
            "\n",
            "The content of the paragraph 26is: “Real-Time Inventory Tracking Using Load Sensors in IoT” (2021) outlines how smart shelves can be designed using load cells and IoT platforms.\n",
            "\n",
            "The content of the paragraph 27is: RFID-Enabled Tracking Systems\n",
            "\n",
            "The content of the paragraph 28is: RFID (Radio Frequency Identification) technology is widely used for tracking the presence and movement of items.\n",
            "\n",
            "The content of the paragraph 29is: System: RFID-Based Inventory Management\n",
            "\n",
            "The content of the paragraph 30is: Technology: RFID tags attached to products communicate with RFID readers to identify the presence or absence of specific items.\n",
            "\n",
            "The content of the paragraph 31is: Example: Retailers like Walmart use RFID to monitor stock levels and optimize supply chains.\n",
            "\n",
            "The content of the paragraph 32is: Advantages: Accurate identification of individual items.\n",
            "\n",
            "The content of the paragraph 33is: Can detect movement, such as when an item is removed from or added to the shelf.\n",
            "\n",
            "The content of the paragraph 34is: Limitations:\n",
            "\n",
            "The content of the paragraph 35is: Higher implementation costs compared to other IoT systems.\n",
            "\n",
            "The content of the paragraph 36is: Requires line-of-sight for optimal performance.\n",
            "\n",
            "The content of the paragraph 37is: References Taken:\n",
            "\n",
            "The content of the paragraph 38is: “RFID in Retail and Inventory Management” (2020) discusses the integration of RFID with IoT systems for effective inventory tracking.\n",
            "\n",
            "The content of the paragraph 39is: IoT for Food Stock Monitoring\n",
            "\n",
            "The content of the paragraph 40is: IoT systems tailored for food stock management focus on reducing waste and monitoring perishable items.\n",
            "\n",
            "The content of the paragraph 41is: System: IoT-Driven Food Stock Management\n",
            "\n",
            "The content of the paragraph 42is: Technology: Sensors like humidity, temperature, and weight sensors monitor food items to prevent spoilage.\n",
            "\n",
            "The content of the paragraph 43is: Example: IoT-powered systems are used in smart refrigerators and pantries to notify users of expiring items.\n",
            "\n",
            "The content of the paragraph 44is: Advantages:\n",
            "\n",
            "The content of the paragraph 45is: Helps reduce food wastage.\n",
            "\n",
            "The content of the paragraph 46is: Provides real-time alerts about spoilage risks.\n",
            "\n",
            "The content of the paragraph 47is: Limitations:\n",
            "\n",
            "The content of the paragraph 48is: Requires integration with additional sensors, which may increase complexity.\n",
            "\n",
            "The content of the paragraph 49is: Dependence on stable internet connectivity.\n",
            "\n",
            "The content of the paragraph 50is: References Taken:\n",
            "\n",
            "The content of the paragraph 51is: “IoT for Food Management and Waste Reduction” (2021) discusses how IoT can track perishable goods and improve sustainability.\n",
            "\n",
            "The content of the paragraph 52is: Gaps in Existing IoT Systems\n",
            "\n",
            "The content of the paragraph 53is: The following gaps were identified in existing IoT systems for inventory management:\n",
            "\n",
            "The content of the paragraph 54is: Cost Efficiency:\n",
            "\n",
            "The content of the paragraph 55is: Systems using RFID or high-end cloud platforms are often too expensive for small businesses or average households.\n",
            "\n",
            "The content of the paragraph 56is: Scalability:\n",
            "\n",
            "The content of the paragraph 57is: Existing IoT setups are not always designed for seamless scalability, limiting their use in growing businesses or larger households.\n",
            "\n",
            "The content of the paragraph 58is: Limited Context Awareness:\n",
            "\n",
            "The content of the paragraph 59is: IoT systems often rely on static thresholds (e.g., weight limits) and do not account for dynamic changes like user consumption patterns.\n",
            "\n",
            "The content of the paragraph 60is: Integration with Other Technologies:\n",
            "\n",
            "The content of the paragraph 61is: Many systems lack integration with NLP or mobile apps, reducing their usability and accessibility.\n",
            "\n",
            "The content of the paragraph 62is: References Taken for IoT Design in SmartPantry\n",
            "\n",
            "The content of the paragraph 63is: IoT Hardware:\n",
            "\n",
            "The content of the paragraph 64is: “IoT-Based Smart Shelves: Applications in Retail” (2020) for leveraging load cells and ESP32 microcontrollers.\n",
            "\n",
            "The content of the paragraph 65is: “RFID Technology in Inventory Control Systems” (2020) for understanding RFID applications.\n",
            "\n",
            "The content of the paragraph 66is: Cloud Integration:\n",
            "\n",
            "The content of the paragraph 67is: “IoT-Cloud Integration for Inventory Tracking” (2021) for insights into AWS IoT Core and Google Cloud IoT.\n",
            "\n",
            "The content of the paragraph 68is: Sustainable Practices:\n",
            "\n",
            "The content of the paragraph 69is: “IoT Solutions for Food Waste Reduction” (2021) for incorporating features like expiry notifications.\n",
            "\n",
            "The content of the paragraph 70is: General IoT Applications:\n",
            "\n",
            "The content of the paragraph 71is: “Applications of IoT in Smart Home Automation” (2020) for understanding the role of IoT in everyday inventory management.\n",
            "\n",
            "The content of the paragraph 72is: Conclusion\n",
            "\n",
            "The content of the paragraph 73is: IoT-based systems for inventory management offer real-time tracking, enhanced automation, and waste reduction. However, existing solutions often face challenges in cost-effectiveness, scalability, and integration. The SmartPantry system addresses these gaps by leveraging cost-efficient IoT components (e.g., ESP32, load cells) and integrating them with cloud platforms for real-time monitoring and notifications. The insights from the above references have guided the development of a scalable and user-friendly IoT-based inventory management system.\n",
            "\n"
          ]
        }
      ]
    },
    {
      "cell_type": "code",
      "source": [
        "!pip install bs4"
      ],
      "metadata": {
        "colab": {
          "base_uri": "https://localhost:8080/"
        },
        "id": "S3_H2_hlLi-C",
        "outputId": "b69f7f7a-54d8-4a9f-9bbf-458e0d4974a3"
      },
      "execution_count": 17,
      "outputs": [
        {
          "output_type": "stream",
          "name": "stdout",
          "text": [
            "Collecting bs4\n",
            "  Downloading bs4-0.0.2-py2.py3-none-any.whl.metadata (411 bytes)\n",
            "Requirement already satisfied: beautifulsoup4 in /usr/local/lib/python3.11/dist-packages (from bs4) (4.13.3)\n",
            "Requirement already satisfied: soupsieve>1.2 in /usr/local/lib/python3.11/dist-packages (from beautifulsoup4->bs4) (2.6)\n",
            "Requirement already satisfied: typing-extensions>=4.0.0 in /usr/local/lib/python3.11/dist-packages (from beautifulsoup4->bs4) (4.12.2)\n",
            "Downloading bs4-0.0.2-py2.py3-none-any.whl (1.2 kB)\n",
            "Installing collected packages: bs4\n",
            "Successfully installed bs4-0.0.2\n"
          ]
        }
      ]
    },
    {
      "cell_type": "code",
      "source": [
        "import urllib.request as urllib2\n",
        "from bs4 import BeautifulSoup"
      ],
      "metadata": {
        "id": "0ckEuY0cNIzc"
      },
      "execution_count": 19,
      "outputs": []
    },
    {
      "cell_type": "code",
      "source": [
        "response = urllib2.urlopen(\"https://en.wikipedia.org/wiki/Natural_language_processing\")\n",
        "html_doc = response.read()"
      ],
      "metadata": {
        "id": "pWeYCAPFNP6K"
      },
      "execution_count": 20,
      "outputs": []
    },
    {
      "cell_type": "code",
      "source": [
        "soup = BeautifulSoup(html_doc, 'html.parser')\n",
        "strhtm = soup.prettify()\n",
        "print(strhtm[:5000])"
      ],
      "metadata": {
        "colab": {
          "base_uri": "https://localhost:8080/"
        },
        "id": "6OHDa9oFNmR4",
        "outputId": "3bf07905-32ca-4391-fada-0fa2e469a4a7"
      },
      "execution_count": 21,
      "outputs": [
        {
          "output_type": "stream",
          "name": "stdout",
          "text": [
            "<!DOCTYPE html>\n",
            "<html class=\"client-nojs vector-feature-language-in-header-enabled vector-feature-language-in-main-page-header-disabled vector-feature-page-tools-pinned-disabled vector-feature-toc-pinned-clientpref-1 vector-feature-main-menu-pinned-disabled vector-feature-limited-width-clientpref-1 vector-feature-limited-width-content-enabled vector-feature-custom-font-size-clientpref-1 vector-feature-appearance-pinned-clientpref-1 vector-feature-night-mode-enabled skin-theme-clientpref-day vector-sticky-header-enabled vector-toc-available\" dir=\"ltr\" lang=\"en\">\n",
            " <head>\n",
            "  <meta charset=\"utf-8\"/>\n",
            "  <title>\n",
            "   Natural language processing - Wikipedia\n",
            "  </title>\n",
            "  <script>\n",
            "   (function(){var className=\"client-js vector-feature-language-in-header-enabled vector-feature-language-in-main-page-header-disabled vector-feature-page-tools-pinned-disabled vector-feature-toc-pinned-clientpref-1 vector-feature-main-menu-pinned-disabled vector-feature-limited-width-clientpref-1 vector-feature-limited-width-content-enabled vector-feature-custom-font-size-clientpref-1 vector-feature-appearance-pinned-clientpref-1 vector-feature-night-mode-enabled skin-theme-clientpref-day vector-sticky-header-enabled vector-toc-available\";var cookie=document.cookie.match(/(?:^|; )enwikimwclientpreferences=([^;]+)/);if(cookie){cookie[1].split('%2C').forEach(function(pref){className=className.replace(new RegExp('(^| )'+pref.replace(/-clientpref-\\w+$|[^\\w-]+/g,'')+'-clientpref-\\\\w+( |$)'),'$1'+pref+'$2');});}document.documentElement.className=className;}());RLCONF={\"wgBreakFrames\":false,\"wgSeparatorTransformTable\":[\"\",\"\"],\"wgDigitTransformTable\":[\"\",\"\"],\"wgDefaultDateFormat\":\"dmy\",\n",
            "\"wgMonthNames\":[\"\",\"January\",\"February\",\"March\",\"April\",\"May\",\"June\",\"July\",\"August\",\"September\",\"October\",\"November\",\"December\"],\"wgRequestId\":\"d79e7f30-9e29-49dd-932a-f1f00c0a809f\",\"wgCanonicalNamespace\":\"\",\"wgCanonicalSpecialPageName\":false,\"wgNamespaceNumber\":0,\"wgPageName\":\"Natural_language_processing\",\"wgTitle\":\"Natural language processing\",\"wgCurRevisionId\":1274942014,\"wgRevisionId\":1274942014,\"wgArticleId\":21652,\"wgIsArticle\":true,\"wgIsRedirect\":false,\"wgAction\":\"view\",\"wgUserName\":null,\"wgUserGroups\":[\"*\"],\"wgCategories\":[\"All accuracy disputes\",\"Accuracy disputes from December 2013\",\"Harv and Sfn no-target errors\",\"CS1 errors: periodical ignored\",\"CS1 maint: location\",\"Articles with short description\",\"Short description is different from Wikidata\",\"Articles needing additional references from May 2024\",\"All articles needing additional references\",\"All articles with unsourced statements\",\"Articles with unsourced statements from May 2024\",\"Commons category link from Wikidata\",\n",
            "\"Natural language processing\",\"Computational fields of study\",\"Computational linguistics\",\"Speech recognition\"],\"wgPageViewLanguage\":\"en\",\"wgPageContentLanguage\":\"en\",\"wgPageContentModel\":\"wikitext\",\"wgRelevantPageName\":\"Natural_language_processing\",\"wgRelevantArticleId\":21652,\"wgIsProbablyEditable\":true,\"wgRelevantPageIsProbablyEditable\":true,\"wgRestrictionEdit\":[],\"wgRestrictionMove\":[],\"wgNoticeProject\":\"wikipedia\",\"wgCiteReferencePreviewsActive\":false,\"wgFlaggedRevsParams\":{\"tags\":{\"status\":{\"levels\":1}}},\"wgMediaViewerOnClick\":true,\"wgMediaViewerEnabledByDefault\":true,\"wgPopupsFlags\":0,\"wgVisualEditor\":{\"pageLanguageCode\":\"en\",\"pageLanguageDir\":\"ltr\",\"pageVariantFallbacks\":\"en\"},\"wgMFDisplayWikibaseDescriptions\":{\"search\":true,\"watchlist\":true,\"tagline\":false,\"nearby\":true},\"wgWMESchemaEditAttemptStepOversample\":false,\"wgWMEPageLength\":60000,\"wgEditSubmitButtonLabelPublish\":true,\"wgULSPosition\":\"interlanguage\",\"wgULSisCompactLinksEnabled\":false,\"wgVector2022LanguageInHeader\":true,\n",
            "\"wgULSisLanguageSelectorEmpty\":false,\"wgWikibaseItemId\":\"Q30642\",\"wgCheckUserClientHintsHeadersJsApi\":[\"brands\",\"architecture\",\"bitness\",\"fullVersionList\",\"mobile\",\"model\",\"platform\",\"platformVersion\"],\"GEHomepageSuggestedEditsEnableTopics\":true,\"wgGETopicsMatchModeEnabled\":false,\"wgGEStructuredTaskRejectionReasonTextInputEnabled\":false,\"wgGELevelingUpEnabledForUser\":false};RLSTATE={\"ext.globalCssJs.user.styles\":\"ready\",\"site.styles\":\"ready\",\"user.styles\":\"ready\",\"ext.globalCssJs.user\":\"ready\",\"user\":\"ready\",\"user.options\":\"loading\",\"ext.cite.styles\":\"ready\",\"ext.math.styles\":\"ready\",\"skins.vector.search.codex.styles\":\"ready\",\"skins.vector.styles\":\"ready\",\"skins.vector.icons\":\"ready\",\"jquery.makeCollapsible.styles\":\"ready\",\"ext.wikimediamessages.styles\":\"ready\",\"ext.visualEditor.desktopArticleTarget.noscript\":\"ready\",\"ext.uls.interlanguage\":\"ready\",\"wikibase.client.init\":\"ready\",\"ext.wikimediaBadges\":\"ready\"};RLPAGEMODULES=[\"ext.cite.ux-enhancements\",\"ext.scribunto.logs\",\"site\",\n",
            "\"mediawiki.page.ready\",\"jquery.makeCollapsible\",\"mediawiki.toc\",\"skins.vector.js\",\"ext.centralNotice.geoIP\",\"ext.centralNotice.startUp\",\"ext.gadget.ReferenceTooltips\",\"ext.gadget.switcher\",\"ext.urlShortener.toolbar\",\"ext.centralauth.centralautologin\",\"mmv.bootstrap\",\"ext.popups\",\"ext.visualEditor.desktopArticleTarget.init\",\"ext.visu\n"
          ]
        }
      ]
    },
    {
      "cell_type": "code",
      "source": [],
      "metadata": {
        "id": "yvXssfRrN0RD"
      },
      "execution_count": null,
      "outputs": []
    }
  ]
}