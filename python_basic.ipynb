{
  "cells": [
    {
      "cell_type": "markdown",
      "metadata": {
        "id": "view-in-github",
        "colab_type": "text"
      },
      "source": [
        "<a href=\"https://colab.research.google.com/github/tharun067/python_problems/blob/main/python_basic.ipynb\" target=\"_parent\"><img src=\"https://colab.research.google.com/assets/colab-badge.svg\" alt=\"Open In Colab\"/></a>"
      ]
    },
    {
      "cell_type": "code",
      "execution_count": null,
      "id": "2dca8f92",
      "metadata": {
        "id": "2dca8f92",
        "outputId": "17624793-d8e1-4780-c47f-c90e8fb236f1"
      },
      "outputs": [
        {
          "name": "stdout",
          "output_type": "stream",
          "text": [
            "True\n",
            "True\n"
          ]
        }
      ],
      "source": [
        "a=200\n",
        "b=350\n",
        "c=400\n",
        "print(a>=b and c>a or c>b)\n",
        "print(b>c and b>a or c>=a)"
      ]
    },
    {
      "cell_type": "code",
      "execution_count": null,
      "id": "68d83cf2",
      "metadata": {
        "id": "68d83cf2",
        "outputId": "fba87c74-a882-49e8-f8db-0626118c4f5c"
      },
      "outputs": [
        {
          "name": "stdout",
          "output_type": "stream",
          "text": [
            "False\n"
          ]
        }
      ],
      "source": [
        "x=10\n",
        "b=not x\n",
        "print(b)"
      ]
    },
    {
      "cell_type": "code",
      "execution_count": null,
      "id": "ffca0b7e",
      "metadata": {
        "id": "ffca0b7e",
        "outputId": "2baffc10-9eea-485c-a62f-2905a57c85ea"
      },
      "outputs": [
        {
          "name": "stdout",
          "output_type": "stream",
          "text": [
            "True\n"
          ]
        }
      ],
      "source": [
        "a=100\n",
        "b=20\n",
        "if a>b:\n",
        "    print(True)"
      ]
    },
    {
      "cell_type": "code",
      "execution_count": null,
      "id": "116409b8",
      "metadata": {
        "id": "116409b8"
      },
      "outputs": [],
      "source": [
        "a=\"Machine Learning\""
      ]
    },
    {
      "cell_type": "code",
      "execution_count": null,
      "id": "dc99ddbc",
      "metadata": {
        "id": "dc99ddbc",
        "outputId": "ce530cce-ad30-46f1-8f8a-41640c1cdc87"
      },
      "outputs": [
        {
          "data": {
            "text/plain": [
              "'M'"
            ]
          },
          "execution_count": 2,
          "metadata": {},
          "output_type": "execute_result"
        }
      ],
      "source": [
        "a[0]"
      ]
    },
    {
      "cell_type": "code",
      "execution_count": null,
      "id": "bd9a12b5",
      "metadata": {
        "id": "bd9a12b5",
        "outputId": "abc2378c-f153-438d-9c98-fac14523bb76"
      },
      "outputs": [
        {
          "data": {
            "text/plain": [
              "'Machine'"
            ]
          },
          "execution_count": 7,
          "metadata": {},
          "output_type": "execute_result"
        }
      ],
      "source": [
        "a[0:7:1]"
      ]
    },
    {
      "cell_type": "code",
      "execution_count": null,
      "id": "efbc8165",
      "metadata": {
        "id": "efbc8165",
        "outputId": "3d1ce8b9-c3f0-49dc-ccc3-1099034a65e2"
      },
      "outputs": [
        {
          "data": {
            "text/plain": [
              "'gninraeL enihcaM'"
            ]
          },
          "execution_count": 9,
          "metadata": {},
          "output_type": "execute_result"
        }
      ],
      "source": [
        "a[::-1]"
      ]
    },
    {
      "cell_type": "code",
      "execution_count": null,
      "id": "00ffed71",
      "metadata": {
        "id": "00ffed71",
        "outputId": "cb49d2cb-9f77-43f5-dc2e-76c6de7a7a2e"
      },
      "outputs": [
        {
          "data": {
            "text/plain": [
              "'MACHINE LEARNING'"
            ]
          },
          "execution_count": 10,
          "metadata": {},
          "output_type": "execute_result"
        }
      ],
      "source": [
        "a.upper()"
      ]
    },
    {
      "cell_type": "code",
      "execution_count": null,
      "id": "05d10d91",
      "metadata": {
        "id": "05d10d91",
        "outputId": "cf9cee05-1a85-42a2-d890-085b7e9b6926"
      },
      "outputs": [
        {
          "data": {
            "text/plain": [
              "'Machine Learning'"
            ]
          },
          "execution_count": 11,
          "metadata": {},
          "output_type": "execute_result"
        }
      ],
      "source": [
        "a.title()"
      ]
    },
    {
      "cell_type": "code",
      "execution_count": null,
      "id": "bb984425",
      "metadata": {
        "id": "bb984425",
        "outputId": "2fff65c4-192e-4743-e7f8-c3d3d86020eb"
      },
      "outputs": [
        {
          "data": {
            "text/plain": [
              "[1, 3, 4, 45, 'hi', True, 3.0]"
            ]
          },
          "execution_count": 1,
          "metadata": {},
          "output_type": "execute_result"
        }
      ],
      "source": [
        "first_lst=[1,3,4,45,\"hi\",True,3.0]\n",
        "first_lst"
      ]
    },
    {
      "cell_type": "code",
      "execution_count": null,
      "id": "97ceec9e",
      "metadata": {
        "id": "97ceec9e",
        "outputId": "cb891944-9674-406e-f977-06fbdbd7cb4a"
      },
      "outputs": [
        {
          "name": "stdout",
          "output_type": "stream",
          "text": [
            "['Accuracy', 'precision', 'Recall', 'F1score', 'AUC_ROC_Score']\n"
          ]
        }
      ],
      "source": [
        "metrics=[\"Accuracy\",\"precision\",\"Recall\",\"F1score\",\"AUC_ROC_Score\"]\n",
        "\n",
        "print(metrics)"
      ]
    },
    {
      "cell_type": "code",
      "execution_count": null,
      "id": "eb5f3503",
      "metadata": {
        "id": "eb5f3503",
        "outputId": "3def1db0-3031-4bc1-c839-ac76acbedb25"
      },
      "outputs": [
        {
          "data": {
            "text/plain": [
              "'Accuracy'"
            ]
          },
          "execution_count": 3,
          "metadata": {},
          "output_type": "execute_result"
        }
      ],
      "source": [
        "metrics[0]"
      ]
    },
    {
      "cell_type": "code",
      "execution_count": null,
      "id": "b896b293",
      "metadata": {
        "id": "b896b293",
        "outputId": "0d3bb457-f57b-470f-c122-d157cba63441"
      },
      "outputs": [
        {
          "data": {
            "text/plain": [
              "'F1score'"
            ]
          },
          "execution_count": 4,
          "metadata": {},
          "output_type": "execute_result"
        }
      ],
      "source": [
        "metrics[-2]"
      ]
    },
    {
      "cell_type": "code",
      "execution_count": null,
      "id": "1abe92da",
      "metadata": {
        "id": "1abe92da",
        "outputId": "0b0a25b7-3227-4366-9a51-c59d364e04df"
      },
      "outputs": [
        {
          "data": {
            "text/plain": [
              "['Accuracy', 'Recall']"
            ]
          },
          "execution_count": 5,
          "metadata": {},
          "output_type": "execute_result"
        }
      ],
      "source": [
        "metrics[0:4:2]"
      ]
    },
    {
      "cell_type": "code",
      "execution_count": null,
      "id": "34fb4d0a",
      "metadata": {
        "id": "34fb4d0a",
        "outputId": "1bf098a2-1136-445c-baed-1a5a6eb3428b"
      },
      "outputs": [
        {
          "data": {
            "text/plain": [
              "[]"
            ]
          },
          "execution_count": 6,
          "metadata": {},
          "output_type": "execute_result"
        }
      ],
      "source": [
        "metrics[:4:-1]"
      ]
    },
    {
      "cell_type": "code",
      "execution_count": null,
      "id": "6f9b00dc",
      "metadata": {
        "id": "6f9b00dc",
        "outputId": "93aea3e7-4e97-4f30-af7e-3f6738894639"
      },
      "outputs": [
        {
          "data": {
            "text/plain": [
              "['Accuracy', 'precision', 'Recall', 'F1score']"
            ]
          },
          "execution_count": 7,
          "metadata": {},
          "output_type": "execute_result"
        }
      ],
      "source": [
        "metrics[:4]"
      ]
    },
    {
      "cell_type": "code",
      "execution_count": null,
      "id": "b2ca4ae8",
      "metadata": {
        "id": "b2ca4ae8",
        "outputId": "34099dbd-8417-42ee-ab08-5f53cef32c3c"
      },
      "outputs": [
        {
          "data": {
            "text/plain": [
              "['Accuracy', 'precision', 'Recall', 'F1score', 'AUC_ROC_Score', 'abc', 'gfyyh']"
            ]
          },
          "execution_count": 8,
          "metadata": {},
          "output_type": "execute_result"
        }
      ],
      "source": [
        "metrics+[\"abc\",\"gfyyh\"]"
      ]
    },
    {
      "cell_type": "code",
      "execution_count": null,
      "id": "b6a5e001",
      "metadata": {
        "id": "b6a5e001",
        "outputId": "a5dc74fa-547c-4648-8680-2b796bbb9ba3"
      },
      "outputs": [
        {
          "data": {
            "text/plain": [
              "['Accuracy', 'precision', 'Recall', 'F1score', 'AUC_ROC_Score']"
            ]
          },
          "execution_count": 9,
          "metadata": {},
          "output_type": "execute_result"
        }
      ],
      "source": [
        "metrics\n"
      ]
    },
    {
      "cell_type": "code",
      "execution_count": null,
      "id": "2d1254d3",
      "metadata": {
        "id": "2d1254d3"
      },
      "outputs": [],
      "source": [
        "metrics.append(\"abc\")"
      ]
    },
    {
      "cell_type": "code",
      "execution_count": null,
      "id": "3539165e",
      "metadata": {
        "id": "3539165e"
      },
      "outputs": [],
      "source": [
        "metrics.append('wqae')"
      ]
    },
    {
      "cell_type": "code",
      "execution_count": null,
      "id": "b6a43b1b",
      "metadata": {
        "id": "b6a43b1b",
        "outputId": "19056dda-a926-41d1-a712-45e62418b6ac"
      },
      "outputs": [
        {
          "data": {
            "text/plain": [
              "'Recall'"
            ]
          },
          "execution_count": 14,
          "metadata": {},
          "output_type": "execute_result"
        }
      ],
      "source": [
        "metrics.pop(2)"
      ]
    },
    {
      "cell_type": "code",
      "execution_count": null,
      "id": "bf458598",
      "metadata": {
        "id": "bf458598"
      },
      "outputs": [],
      "source": [
        "metrics.append(2)\n",
        "metrics.append(\"Recall\")"
      ]
    },
    {
      "cell_type": "markdown",
      "id": "22e71155",
      "metadata": {
        "id": "22e71155"
      },
      "source": [
        "metrics"
      ]
    },
    {
      "cell_type": "code",
      "execution_count": null,
      "id": "b2c586c9",
      "metadata": {
        "id": "b2c586c9",
        "outputId": "7b7217c3-31b7-4548-d2ec-d911c7be412d"
      },
      "outputs": [
        {
          "data": {
            "text/plain": [
              "['Accuracy',\n",
              " 'precision',\n",
              " 'F1score',\n",
              " 'AUC_ROC_Score',\n",
              " 'abc',\n",
              " 'wqae',\n",
              " 2,\n",
              " 2,\n",
              " 'Recall']"
            ]
          },
          "execution_count": 17,
          "metadata": {},
          "output_type": "execute_result"
        }
      ],
      "source": [
        "metrics"
      ]
    },
    {
      "cell_type": "code",
      "execution_count": null,
      "id": "3ed81490",
      "metadata": {
        "id": "3ed81490",
        "outputId": "4c8233e2-ea54-4e6c-9764-80710834af7c"
      },
      "outputs": [
        {
          "data": {
            "text/plain": [
              "['Accuracy',\n",
              " 'precision',\n",
              " 'F1score',\n",
              " 'AUC_ROC_Score',\n",
              " 'abc',\n",
              " 'wqae',\n",
              " 2,\n",
              " 2,\n",
              " 'Recall',\n",
              " 2,\n",
              " 'ji']"
            ]
          },
          "execution_count": 18,
          "metadata": {},
          "output_type": "execute_result"
        }
      ],
      "source": [
        "metrics.extend([2,'ji'])\n",
        "metrics"
      ]
    },
    {
      "cell_type": "code",
      "execution_count": null,
      "id": "5ba05c15",
      "metadata": {
        "id": "5ba05c15",
        "outputId": "73e3b288-7772-4d4d-aec0-9df75e6e1ce6"
      },
      "outputs": [
        {
          "data": {
            "text/plain": [
              "[4, 'hi', 5, 5, 6, 7]"
            ]
          },
          "execution_count": 19,
          "metadata": {},
          "output_type": "execute_result"
        }
      ],
      "source": [
        "lira=[4,5,5,6,7]## elements are moved to next position\n",
        "lira.insert(1,\"hi\")\n",
        "lira"
      ]
    },
    {
      "cell_type": "code",
      "execution_count": null,
      "id": "353df828",
      "metadata": {
        "id": "353df828",
        "outputId": "f905f4e2-fcfd-4acb-bf58-edc4446c7099"
      },
      "outputs": [
        {
          "data": {
            "text/plain": [
              "[]"
            ]
          },
          "execution_count": 21,
          "metadata": {},
          "output_type": "execute_result"
        }
      ],
      "source": [
        "lira.clear()\n",
        "lira"
      ]
    },
    {
      "cell_type": "code",
      "execution_count": null,
      "id": "48970e43",
      "metadata": {
        "id": "48970e43",
        "outputId": "bfff03ed-c044-4d3e-88e7-7ecb5e9d9bcc"
      },
      "outputs": [
        {
          "name": "stdout",
          "output_type": "stream",
          "text": [
            "<zip object at 0x0000026EE056A680>\n"
          ]
        }
      ],
      "source": [
        "ki=[1,2,3,4]\n",
        "ki1=[3,4,4,5]\n",
        "l1=zip(ki,ki1)\n",
        "print(l1)"
      ]
    },
    {
      "cell_type": "code",
      "execution_count": null,
      "id": "5de36ff9",
      "metadata": {
        "id": "5de36ff9",
        "outputId": "ae0be208-d268-4dfa-f431-5d839c1af409"
      },
      "outputs": [
        {
          "name": "stdout",
          "output_type": "stream",
          "text": [
            "((1, 3), (2, 4), (3, 4), (4, 5))\n",
            "[(1, 3), (2, 4), (3, 4), (4, 5)]\n"
          ]
        }
      ],
      "source": [
        "ki=[1,2,3,4]\n",
        "ki1=[3,4,4,5]\n",
        "l1=tuple(zip(ki,ki1))\n",
        "l2=list(zip(ki,ki1))\n",
        "print(\"tuple of\",l1)\n",
        "print(\"list of\",l2)"
      ]
    },
    {
      "cell_type": "code",
      "execution_count": null,
      "id": "eeac4007",
      "metadata": {
        "id": "eeac4007",
        "outputId": "336d9aa5-3d2a-4f62-d2a7-8846a8bdedce"
      },
      "outputs": [
        {
          "name": "stdout",
          "output_type": "stream",
          "text": [
            "((1, 3, 1), (2, 4, 4), (3, 4, 5), (4, 5, 7))\n"
          ]
        }
      ],
      "source": [
        "ki=[1,2,3,4,7]\n",
        "ki1=[3,4,4,5]\n",
        "k=[1,4,5,7]\n",
        "l1=tuple(zip(ki,ki1,k))\n",
        "print(l1)"
      ]
    },
    {
      "cell_type": "code",
      "execution_count": null,
      "id": "f667e634",
      "metadata": {
        "id": "f667e634",
        "outputId": "d205b7d5-52f5-465c-9415-0c91d3f01a04"
      },
      "outputs": [
        {
          "data": {
            "text/plain": [
              "[(0, 4), (1, 5), (2, 6), (3, 7), (4, 8), (5, 9)]"
            ]
          },
          "execution_count": 27,
          "metadata": {},
          "output_type": "execute_result"
        }
      ],
      "source": [
        "l1=[4,5,6,7,8,9]\n",
        "list(enumerate(l1))"
      ]
    },
    {
      "cell_type": "code",
      "execution_count": null,
      "id": "240bf508",
      "metadata": {
        "id": "240bf508",
        "outputId": "4fd85bde-f0eb-4323-be12-7056f6f8a6f0"
      },
      "outputs": [
        {
          "name": "stdout",
          "output_type": "stream",
          "text": [
            "[3, 4, 5, 7, 15, 22, 51, 88, 99]\n"
          ]
        }
      ],
      "source": [
        "l1=[22,3,4,51,7,5,88,99,15]\n",
        "l1.sort()\n",
        "print(l1)"
      ]
    },
    {
      "cell_type": "code",
      "execution_count": null,
      "id": "ca89e84d",
      "metadata": {
        "id": "ca89e84d",
        "outputId": "4d51f74a-17da-49c0-d745-3caad83535ed"
      },
      "outputs": [
        {
          "name": "stdout",
          "output_type": "stream",
          "text": [
            "[2, 7, 8, 24, 45, 45, 45, 74, 87]\n",
            "[45, 87, 45, 8, 45, 74, 2, 24, 7]\n"
          ]
        }
      ],
      "source": [
        "l2=[45,87,45,8,45,74,2,24,7]\n",
        "print(sorted(l2))\n",
        "print(l2)"
      ]
    },
    {
      "cell_type": "code",
      "execution_count": null,
      "id": "f00aaa73",
      "metadata": {
        "id": "f00aaa73",
        "outputId": "aff6dbcf-b8cb-4be9-9226-cf343fb1cade"
      },
      "outputs": [
        {
          "name": "stdout",
          "output_type": "stream",
          "text": [
            "('raju', 'ravi', 1, 2, 3, 7.8)\n"
          ]
        },
        {
          "data": {
            "text/plain": [
              "tuple"
            ]
          },
          "execution_count": 32,
          "metadata": {},
          "output_type": "execute_result"
        }
      ],
      "source": [
        "ab=(\"raju\",\"ravi\",1,2,3,7.8)\n",
        "print(ab)\n",
        "type(ab)"
      ]
    },
    {
      "cell_type": "code",
      "execution_count": null,
      "id": "bd975001",
      "metadata": {
        "id": "bd975001",
        "outputId": "c30d21be-0afe-4c4d-d2c9-3957b1ad7bf1"
      },
      "outputs": [
        {
          "name": "stdout",
          "output_type": "stream",
          "text": [
            "(1, 4, 5, 78, 7, 'raju', 'ravi', 1, 2, 3, 7.8)\n"
          ]
        }
      ],
      "source": [
        "a=(1,4,5,78,7)\n",
        "print(a+ab)"
      ]
    },
    {
      "cell_type": "code",
      "execution_count": null,
      "id": "fc8695fe",
      "metadata": {
        "id": "fc8695fe",
        "outputId": "8aab314b-e5de-468c-a549-cfea01bbcc31"
      },
      "outputs": [
        {
          "name": "stdout",
          "output_type": "stream",
          "text": [
            "(1, 4, 5, 78, 7, 1, 4, 5, 78, 7)\n"
          ]
        }
      ],
      "source": [
        "print(a*2)"
      ]
    },
    {
      "cell_type": "code",
      "execution_count": null,
      "id": "c591f6a7",
      "metadata": {
        "id": "c591f6a7",
        "outputId": "f8f1438b-6da9-4f63-b26d-646c559b99dc"
      },
      "outputs": [
        {
          "data": {
            "text/plain": [
              "5"
            ]
          },
          "execution_count": 36,
          "metadata": {},
          "output_type": "execute_result"
        }
      ],
      "source": [
        "abc=(1,2,3,9,143,11.5,'raju')\n",
        "abc.index(11.5)"
      ]
    },
    {
      "cell_type": "code",
      "execution_count": null,
      "id": "3eb7d031",
      "metadata": {
        "id": "3eb7d031",
        "outputId": "4dc08626-a709-4f20-cdc2-529056aab270"
      },
      "outputs": [
        {
          "data": {
            "text/plain": [
              "4"
            ]
          },
          "execution_count": 37,
          "metadata": {},
          "output_type": "execute_result"
        }
      ],
      "source": [
        "abc=(1,2,3,9,143,11.5,'raju',1,1,4,2,1)\n",
        "abc.count(1)"
      ]
    },
    {
      "cell_type": "code",
      "execution_count": null,
      "id": "b1a13216",
      "metadata": {
        "id": "b1a13216",
        "outputId": "fb4dfb6d-9076-46f2-c799-ad45a94108b2"
      },
      "outputs": [
        {
          "name": "stdout",
          "output_type": "stream",
          "text": [
            "{1, 2, 3, 84, 52, 57, 45}\n"
          ]
        }
      ],
      "source": [
        "s={1,2,3,45,45,84,45,52,57}\n",
        "print(s)"
      ]
    },
    {
      "cell_type": "code",
      "execution_count": null,
      "id": "f84316e4",
      "metadata": {
        "id": "f84316e4"
      },
      "outputs": [],
      "source": [
        "#refid\n",
        "#itemname\n",
        "#currentweight,minweignt,stockweight,requriedweight\n",
        "#cat-tags\n",
        "#quries\n",
        "#monthly usage\n",
        "#predicted usage (optional)\n",
        "#userid-multiple logins\n",
        "#pantry-id"
      ]
    },
    {
      "cell_type": "code",
      "execution_count": null,
      "id": "46298ab5",
      "metadata": {
        "id": "46298ab5"
      },
      "outputs": [],
      "source": [
        "marvel_dict = {'Name':'Thor'   ,  'Place':'Asgard',  'Weapon' : 'Hammer',     1:2,    3 : 'power',    'super_heros' : ['Ironman','Captain America'],  'abc' : {1:2, 4:5}}"
      ]
    },
    {
      "cell_type": "code",
      "execution_count": null,
      "id": "b8e27aae",
      "metadata": {
        "id": "b8e27aae",
        "outputId": "3dea8711-caf5-422d-9516-1f477dae1f00"
      },
      "outputs": [
        {
          "data": {
            "text/plain": [
              "'Thor'"
            ]
          },
          "execution_count": 2,
          "metadata": {},
          "output_type": "execute_result"
        }
      ],
      "source": [
        "marvel_dict[\"Name\"]"
      ]
    },
    {
      "cell_type": "code",
      "execution_count": null,
      "id": "a3b41c62",
      "metadata": {
        "id": "a3b41c62",
        "outputId": "6d90ffa7-37c7-4c10-d5c9-428b5c692f82"
      },
      "outputs": [
        {
          "data": {
            "text/plain": [
              "{'Name': 'Thor',\n",
              " 'Place': 'Asgard',\n",
              " 'Weapon': 'Hammer',\n",
              " 1: 2,\n",
              " 3: 'power',\n",
              " 'super_heros': ['Ironman', 'Captain America'],\n",
              " 'abc': {1: 2, 4: 5}}"
            ]
          },
          "execution_count": 5,
          "metadata": {},
          "output_type": "execute_result"
        }
      ],
      "source": [
        "marvel_dict"
      ]
    },
    {
      "cell_type": "code",
      "execution_count": null,
      "id": "997256f7",
      "metadata": {
        "id": "997256f7"
      },
      "outputs": [],
      "source": [
        "'''\n",
        "1.user loginpage\n",
        "2.signup page\n",
        "3.side tabs:\n",
        "    shopping list\n",
        "    login/logout\n",
        "    profile\n",
        "'''"
      ]
    },
    {
      "cell_type": "code",
      "execution_count": null,
      "id": "fde473de",
      "metadata": {
        "id": "fde473de",
        "outputId": "ccd32786-1b4d-43b0-e861-f303a6a9a8b0"
      },
      "outputs": [
        {
          "data": {
            "text/plain": [
              "dict_values(['Thor', 'Asgard', 'Hammer', 2, 'power', ['Ironman', 'Captain America'], {1: 2, 4: 5}])"
            ]
          },
          "execution_count": 6,
          "metadata": {},
          "output_type": "execute_result"
        }
      ],
      "source": [
        "marvel_dict.values()"
      ]
    },
    {
      "cell_type": "code",
      "execution_count": null,
      "id": "56e5961f",
      "metadata": {
        "id": "56e5961f",
        "outputId": "a940649c-ec24-46bf-a8d9-2d90448ad95f"
      },
      "outputs": [
        {
          "data": {
            "text/plain": [
              "'Asgard'"
            ]
          },
          "execution_count": 7,
          "metadata": {},
          "output_type": "execute_result"
        }
      ],
      "source": [
        "marvel_dict.get('Place')"
      ]
    },
    {
      "cell_type": "code",
      "execution_count": null,
      "id": "d1d02023",
      "metadata": {
        "id": "d1d02023"
      },
      "outputs": [],
      "source": [
        "d1= {'name': \"laxman\" , 'MCA' :[\"python\" , \"ML\" , \"DL\" , \"NLP\",\"CV\" , \"Big data\" , \"data analytics\"]}\n",
        "\n",
        "d1\n",
        "\n",
        "d2=d1.copy()"
      ]
    },
    {
      "cell_type": "code",
      "execution_count": null,
      "id": "dc7059b7",
      "metadata": {
        "id": "dc7059b7",
        "outputId": "dc3531e4-2735-4bcf-c414-3246331cc605"
      },
      "outputs": [
        {
          "data": {
            "text/plain": [
              "{'name': 'laxman',\n",
              " 'MCA': ['python', 'ML', 'DL', 'NLP', 'CV', 'Big data', 'data analytics']}"
            ]
          },
          "execution_count": 9,
          "metadata": {},
          "output_type": "execute_result"
        }
      ],
      "source": [
        "d2\n"
      ]
    },
    {
      "cell_type": "code",
      "execution_count": null,
      "id": "3a276b9a",
      "metadata": {
        "id": "3a276b9a"
      },
      "outputs": [],
      "source": []
    }
  ],
  "metadata": {
    "kernelspec": {
      "display_name": "Python 3 (ipykernel)",
      "language": "python",
      "name": "python3"
    },
    "language_info": {
      "codemirror_mode": {
        "name": "ipython",
        "version": 3
      },
      "file_extension": ".py",
      "mimetype": "text/x-python",
      "name": "python",
      "nbconvert_exporter": "python",
      "pygments_lexer": "ipython3",
      "version": "3.9.13"
    },
    "colab": {
      "provenance": [],
      "include_colab_link": true
    }
  },
  "nbformat": 4,
  "nbformat_minor": 5
}