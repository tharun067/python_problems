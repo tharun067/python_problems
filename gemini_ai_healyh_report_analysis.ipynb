{
  "cells": [
    {
      "cell_type": "markdown",
      "metadata": {
        "id": "view-in-github",
        "colab_type": "text"
      },
      "source": [
        "<a href=\"https://colab.research.google.com/github/tharun067/python_problems/blob/main/gemini_ai_healyh_report_analysis.ipynb\" target=\"_parent\"><img src=\"https://colab.research.google.com/assets/colab-badge.svg\" alt=\"Open In Colab\"/></a>"
      ]
    },
    {
      "cell_type": "code",
      "execution_count": 1,
      "metadata": {
        "id": "C5VDJlJgfFvj"
      },
      "outputs": [],
      "source": [
        "import google.generativeai as genai\n",
        "from google.colab import userdata\n",
        "GOOGLE_API_KEY = userdata.get('GOOGLE_API_KEY')\n",
        "genai.configure(api_key=GOOGLE_API_KEY)\n"
      ]
    },
    {
      "cell_type": "code",
      "execution_count": 4,
      "metadata": {
        "id": "vfkoIlZufsPo",
        "colab": {
          "base_uri": "https://localhost:8080/"
        },
        "outputId": "95113784-f616-4df4-ea74-b30e3ea6ea82"
      },
      "outputs": [
        {
          "output_type": "stream",
          "name": "stdout",
          "text": [
            "Collecting PyPDF2\n",
            "  Downloading pypdf2-3.0.1-py3-none-any.whl.metadata (6.8 kB)\n",
            "Downloading pypdf2-3.0.1-py3-none-any.whl (232 kB)\n",
            "\u001b[?25l   \u001b[90m━━━━━━━━━━━━━━━━━━━━━━━━━━━━━━━━━━━━━━━━\u001b[0m \u001b[32m0.0/232.6 kB\u001b[0m \u001b[31m?\u001b[0m eta \u001b[36m-:--:--\u001b[0m\r\u001b[2K   \u001b[91m━━━━━━━━━━━━━━━━━━━━━━━━\u001b[0m\u001b[91m╸\u001b[0m\u001b[90m━━━━━━━━━━━━━━━\u001b[0m \u001b[32m143.4/232.6 kB\u001b[0m \u001b[31m4.1 MB/s\u001b[0m eta \u001b[36m0:00:01\u001b[0m\r\u001b[2K   \u001b[90m━━━━━━━━━━━━━━━━━━━━━━━━━━━━━━━━━━━━━━━━\u001b[0m \u001b[32m232.6/232.6 kB\u001b[0m \u001b[31m4.1 MB/s\u001b[0m eta \u001b[36m0:00:00\u001b[0m\n",
            "\u001b[?25hInstalling collected packages: PyPDF2\n",
            "Successfully installed PyPDF2-3.0.1\n"
          ]
        }
      ],
      "source": [
        "!pip install PyPDF2"
      ]
    },
    {
      "cell_type": "code",
      "execution_count": 5,
      "metadata": {
        "id": "8A3DtM8Jf3qp"
      },
      "outputs": [],
      "source": [
        "import PyPDF2\n",
        "def extract_text_from_pdf(pdf_path):\n",
        "  \"\"\"Extracts text from a given health report PDF using PYPDF2\"\"\"\n",
        "  text = \"\"\n",
        "  with open(pdf_path,'rb') as file:\n",
        "    reader = PyPDF2.PdfReader(file)\n",
        "    for page in reader.pages:\n",
        "      text +=page.extract_text() + \"\\n\"\n",
        "  return text"
      ]
    },
    {
      "cell_type": "code",
      "execution_count": 6,
      "metadata": {
        "colab": {
          "base_uri": "https://localhost:8080/",
          "height": 540
        },
        "id": "tQEd1j1JgryR",
        "outputId": "a08f99b3-4a85-49cb-aa3d-0efe46340fec"
      },
      "outputs": [
        {
          "output_type": "stream",
          "name": "stdout",
          "text": [
            "Key insights:\n",
            " **Key Insights from Mr. Kishan Goud's Health Report (MR2100003157):**\n",
            "\n",
            "**Infectious Diseases:**\n",
            "\n",
            "* **Negative for Dengue:**  Dengue NS1 antigen, IgG, and IgM tests were all negative.\n",
            "* **Widal Test:**  Elevated titers for *Salmonella Typhi* \"O\" (1:160) and \"H\" (1:80) suggest a possible past or current *Salmonella Typhi* infection.  *Salmonella Paratyphi* AH and BH titers are within the normal range.  The interpretation of Widal test results requires clinical correlation; isolated positive titers may not always indicate active infection.\n",
            "\n",
            "* **Negative for Malaria:** Rapid Malaria tests (Plasmodium falciparum and Plasmodium vivax) were negative.\n",
            "\n",
            "\n",
            "**Hematology:**\n",
            "\n",
            "* **Elevated ESR:**  An elevated Erythrocyte Sedimentation Rate (ESR) of 26 mm/hr (1st hour) and 52 mm/hr (2nd hour) indicates inflammation or infection in the body.  This is consistent with the possibly positive Widal test results.\n",
            "* **Complete Blood Picture (CBC):**  Most values are within the normal range, including Hemoglobin, RBC, WBC, Platelets, PCV, and differential count.  The slight elevation in ESR could account for some minor anomalies.\n",
            "\n",
            "**Blood Chemistry:**\n",
            "\n",
            "* **HbA1c:** Within the normal non-diabetic range (5.4%), indicating good blood sugar control.\n",
            "* **Random Blood Glucose:** Within the normal range.\n",
            "* **Liver Function Test (LFT):** All liver enzymes (bilirubin, alkaline phosphatase, SGOT, SGPT) are within normal limits.  Total protein and albumin levels are also normal.\n",
            "* **Serum Electrolytes:** Sodium is slightly low (122 mmol/l), while potassium and chloride are within normal range.  Low sodium warrants further investigation and may be related to other factors.\n",
            "* **Serum Creatinine:**  Within the normal range, indicating normal kidney function.\n",
            "\n",
            "\n",
            "**Overall:**\n",
            "\n",
            "The report shows evidence of possible past or present *Salmonella Typhi* infection (indicated by the Widal test), supported by an elevated ESR suggesting inflammation.  Further clinical evaluation is needed to confirm the presence of active *Salmonella Typhi* infection and interpret the slightly low sodium level.  All other tested parameters, including liver function, kidney function, blood glucose, and blood counts, appear largely within normal limits.  The negative dengue and malaria tests rule out these diseases.\n",
            "\n"
          ]
        }
      ],
      "source": [
        "def extract_health_insights(text):\n",
        "  \"\"\"Asks Gemini AI to extract key medical insights from the report.\"\"\"\n",
        "  model = genai.GenerativeModel(\"gemini-1.5-flash\")\n",
        "  prompt = f\"Extract key insights from the following healt report:\\n\\n{text}\"\n",
        "  response = model.generate_content(prompt)\n",
        "  return response.text\n",
        "pdf_file =\"health_report.pdf\"\n",
        "extract_text =extract_text_from_pdf(pdf_file)\n",
        "insights = extract_health_insights(extract_text)\n",
        "print(\"Key insights:\\n\",insights)"
      ]
    },
    {
      "cell_type": "code",
      "execution_count": 7,
      "metadata": {
        "colab": {
          "base_uri": "https://localhost:8080/",
          "height": 89
        },
        "id": "-y6AVQqTjtux",
        "outputId": "87798ced-f62d-4e38-b41a-ef2fd061a152"
      },
      "outputs": [
        {
          "output_type": "stream",
          "name": "stdout",
          "text": [
            "Summary:\n",
            " Mr. Kishan Goud's (MRN: MR2100003157) blood tests on 01/02/2021 showed:  Elevated ESR (26/52 mm/hr),  Widal test positive for *S. Typhi* \"O\" (1:160) and \"H\" (1:80), but negative for paratyphi.  Dengue serology (NS1, IgG, IgM) was negative.  Malaria rapid test was negative.  Complete blood count was within normal limits except for slightly low platelets (2.0 lakhs/cumm). HbA1c was 5.4% (normal).  Serum creatinine, electrolytes, liver function tests, and blood glucose were mostly within normal ranges, except for slightly low serum sodium (122 mmol/l).\n",
            "\n"
          ]
        }
      ],
      "source": [
        "def summarize_health_report(text):\n",
        "  \"\"\"Summarixe the health report using Gemini AI\"\"\"\n",
        "  model = genai.GenerativeModel(\"gemini-1.5-flash\")\n",
        "  prompt = f\"Summarize the following health report in a concise manner:\\n\\n{text}\"\n",
        "  response = model.generate_content(prompt)\n",
        "  return response.text\n",
        "summary = summarize_health_report(extract_text)\n",
        "print(\"Summary:\\n\",summary)"
      ]
    },
    {
      "cell_type": "code",
      "execution_count": 8,
      "metadata": {
        "colab": {
          "base_uri": "https://localhost:8080/",
          "height": 280
        },
        "id": "80L7my7TmtW9",
        "outputId": "3babd9ba-33b5-4fe1-f2a4-1da2736fbcad"
      },
      "outputs": [
        {
          "output_type": "stream",
          "name": "stdout",
          "text": [
            "Potential Abnormalities:\n",
            " Based on the provided lab results, the following values fall outside the reference ranges, indicating potential abnormalities:\n",
            "\n",
            "* **Widal Test:**  S. Typhi \"O\" (1:160) and S. Typhi \"H\" (1:80) are significantly higher than the reference range of 1:20. This suggests a possible *Salmonella Typhi* infection (typhoid fever).  Further investigation and clinical correlation are necessary.\n",
            "\n",
            "* **ESR:**  Both the 1st hour (26 mm/hr) and 2nd hour (52 mm/hr) ESR values are elevated compared to the reference range of 0-8 mm/hr for the first hour. Elevated ESR indicates inflammation or infection somewhere in the body.  This supports the possibility of typhoid, but could also indicate other inflammatory conditions.\n",
            "\n",
            "* **Serum Sodium:** The serum sodium level (122 mmol/l) is below the reference range of 135-146 mmol/l. This indicates hyponatremia (low sodium in the blood), which can have various causes, including dehydration, kidney problems, or certain medications.\n",
            "\n",
            "* **Serum Chloride:** The serum chloride level (97 mmol/l) is slightly below the lower limit of the reference range (98-107 mmol/l). While not significantly low, it might be worth monitoring, especially in conjunction with the hyponatremia.\n",
            "\n",
            "\n",
            "**Important Note:**  This analysis is based solely on the lab results.  A proper diagnosis requires a comprehensive clinical evaluation by a physician considering the patient's symptoms, medical history, and other relevant factors.  The elevated Widal test and ESR strongly suggest further investigation for typhoid fever, but confirmation requires other tests. The low sodium and slightly low chloride warrant investigation to determine the underlying cause.\n",
            "\n"
          ]
        }
      ],
      "source": [
        "def detect_abnormalities(text):\n",
        "  \"\"\"Analyze lab test results and flags abnormal values.\"\"\"\n",
        "  model = genai.GenerativeModel(\"gemini-1.5-flash\")\n",
        "  prompt = f\"Analyze the lab test results in the following health report and highlight any abnormal vlaues:\\n\\n{text}\"\n",
        "  response= model.generate_content(prompt)\n",
        "  return response.text\n",
        "\n",
        "abnomalities = detect_abnormalities(extract_text)\n",
        "print(\"Potential Abnormalities:\\n\",abnomalities)"
      ]
    },
    {
      "cell_type": "code",
      "execution_count": 9,
      "metadata": {
        "colab": {
          "base_uri": "https://localhost:8080/",
          "height": 1000
        },
        "id": "806jYGjcohzN",
        "outputId": "319f2b20-4b87-44be-cd4b-153b4916c192"
      },
      "outputs": [
        {
          "output_type": "stream",
          "name": "stdout",
          "text": [
            "Simplified Explanation:\n",
            " This report shows the results of various blood tests performed on Mr. Kishan Goud. Let's break down the results section by section:\n",
            "\n",
            "**1. WIDAL Test:** This test checks for antibodies against *Salmonella Typhi* and *Salmonella Paratyphi*, bacteria that cause typhoid fever and paratyphoid fever.  The numbers (e.g., 1:160) represent the dilution of the sample at which the antibodies are still detectable.  A higher number indicates a stronger immune response, suggesting possible past or present infection.\n",
            "\n",
            "* **S. Typhi \"O\" 1:160:**  A relatively high titer (level) suggesting possible exposure or infection with *Salmonella Typhi*.\n",
            "* **S. Typhi \"H\" 1:80:**  A moderate titer, also suggesting possible exposure or infection with *Salmonella Typhi*.\n",
            "* **S. Paratyphi \"AH\" 1:20:**  This result is within the reference range and doesn't indicate infection with *Salmonella Paratyphi* AH.\n",
            "* **S. Paratyphi \"BH\" 1:20:** This result is within the reference range and doesn't indicate infection with *Salmonella Paratyphi* BH.\n",
            "\n",
            "**2. Dengue Serology:** This tests for dengue fever.\n",
            "\n",
            "* **Dengue NS1 Antigen:** Negative – No dengue virus detected.\n",
            "* **Dengue IgG:** Negative – No past dengue infection detected.\n",
            "* **Dengue IgM:** Negative – No recent dengue infection detected.\n",
            "\n",
            "**3. Erythrocyte Sedimentation Rate (ESR):** This measures how quickly red blood cells settle at the bottom of a test tube. A higher rate can indicate inflammation or infection in the body.\n",
            "\n",
            "* **ESR 1st Hour 26 mm/hr:** Elevated.  This is higher than the normal range (0-8 mm/hr).\n",
            "* **ESR 2nd Hour 52 mm/hr:** Further elevated.\n",
            "\n",
            "**4. Rapid Malaria Test:** This is a quick test to detect malaria parasites.\n",
            "\n",
            "* **P.V Negative:** Negative for *Plasmodium vivax* malaria.\n",
            "* **P.F Negative:** Negative for *Plasmodium falciparum* malaria.\n",
            "\n",
            "\n",
            "**5. Complete Blood Picture (CBC):** This provides a comprehensive overview of the blood components.\n",
            "\n",
            "* **Hemoglobin (Hb):** 13.6 gms% (Normal). This is the protein in red blood cells that carries oxygen.\n",
            "* **Red Blood Cells (RBC):** 4.3 mill/cumm (Slightly low, but within normal range). These carry oxygen throughout the body.\n",
            "* **White Blood Cells (WBC):** 7,200 cells/cumm (Normal). These fight infection.\n",
            "* **Platelet Count:** 2.0 lakhs/cumm (Normal).  These help with blood clotting.\n",
            "* **Packed Cell Volume (PCV):** 40.5% (Normal). The percentage of red blood cells in the blood.\n",
            "* **Differential Count:** This breaks down the types of white blood cells. All are within normal limits.\n",
            "* **Peripheral Blood Smear:**  Microscopic examination of the blood showing normal red and white blood cell morphology and adequate platelets.\n",
            "\n",
            "**6. HbA1c:** This measures average blood sugar levels over the past 2-3 months. It's a test for diabetes.\n",
            "\n",
            "* **HbA1c 5.4%:** Normal; this indicates good blood sugar control.\n",
            "\n",
            "**7. Serum Creatinine:** This measures kidney function.\n",
            "\n",
            "* **Serum Creatinine 0.8 mg/dl:** Normal.  This indicates normal kidney function.\n",
            "\n",
            "**8. Random Blood Glucose:** This measures blood sugar at a random time.\n",
            "\n",
            "* **Random Blood Glucose:** The result is missing from the provided text.\n",
            "\n",
            "**9. Liver Function Test (LFT):** This assesses liver health. All results are within the normal range, except for a slight elevation in SGOT which is mostly considered non-specific.\n",
            "\n",
            "* **Total Bilirubin, Direct Bilirubin, Indirect Bilirubin:**  All within normal limits, indicating normal liver function regarding bilirubin processing.\n",
            "* **Alkaline Phosphatase:**  Within normal limits, indicating normal liver function.\n",
            "* **SGOT (AST):** Slightly elevated, but within a normal range for many individuals.  It can be nonspecific; many things can cause a slight increase.\n",
            "* **SGPT (ALT):** Within normal limits, indicating normal liver function.\n",
            "* **Total Protein and Albumin:** Within normal limits, indicating normal liver and protein synthesis.\n",
            "* **Globulin:**  Indicates the level of antibodies and other blood proteins. Result provided, but normal range not explicitly included here.\n",
            "* **A/G Ratio:**  The ratio of albumin to globulin is normal.\n",
            "\n",
            "**10. Serum Electrolytes:** These measure the levels of minerals in the blood.\n",
            "\n",
            "* **Serum Sodium:** Slightly low, but might still be considered within the acceptable range depending on the lab and the patient's overall health.\n",
            "* **Serum Potassium:** Within the normal range.\n",
            "* **Serum Chloride:** Slightly low, but might still be considered within the acceptable range depending on the lab and the patient's overall health.\n",
            "\n",
            "\n",
            "**Overall:**  While some values are slightly outside of the ideal range (ESR, slightly low Sodium and Chloride),  the majority of the tests show Mr. Kishan Goud's blood work is within the normal range. The slightly elevated ESR and Widals test results suggest past or possible present infection that needs further investigation by the doctor.  The doctor should interpret these results in the context of Mr. Kishan Goud's symptoms and medical history.  This explanation is for informational purposes only and does not constitute medical advice.\n",
            "\n"
          ]
        }
      ],
      "source": [
        "def explain_mediacl_terms(text):\n",
        "  \"\"\"Asks Gemini AI to simplify mediacal terms for patient understanding.\"\"\"\n",
        "  model = genai.GenerativeModel(\"gemini-1.5-flash\")\n",
        "  prompt = f\"Explain the medical terms in the following health report in simple language:\\n\\n{text}\"\n",
        "  response= model.generate_content(prompt)\n",
        "  return response.text\n",
        "\n",
        "explanation = explain_mediacl_terms(extract_text)\n",
        "print(\"Simplified Explanation:\\n\",explanation)"
      ]
    },
    {
      "cell_type": "code",
      "execution_count": 10,
      "metadata": {
        "colab": {
          "base_uri": "https://localhost:8080/",
          "height": 89
        },
        "id": "g5Bgizgmp7JD",
        "outputId": "4d774564-6ed5-4d12-8c09-b5f9440e3fed"
      },
      "outputs": [
        {
          "output_type": "stream",
          "name": "stdout",
          "text": [
            "Answer:\n",
            " The provided lab report does not offer a diagnosis.  It only presents the results of various tests.  The elevated ESR (erythrocyte sedimentation rate)  suggests *possible* inflammation, but this is not a diagnosis in itself.  To determine a diagnosis, a physician must interpret these results in conjunction with the patient's symptoms, medical history, and physical examination.\n",
            "\n"
          ]
        }
      ],
      "source": [
        "def ask_gemini_about_report(text,question):\n",
        "  \"\"\"Allows users to ask questions about thier health report.\"\"\"\n",
        "  model = genai.GenerativeModel(\"gemini-1.5-flash\")\n",
        "  prompt = f\"The following is a health report:\\n\\n{text}\\n\\nAnswer the following question based on the report:\\n{question}\"\n",
        "  response= model.generate_content(prompt)\n",
        "  return response.text\n",
        "question = \"What is the patient's diagnosis?\"\n",
        "answer = ask_gemini_about_report(extract_text,question)\n",
        "print(\"Answer:\\n\",answer)"
      ]
    },
    {
      "cell_type": "code",
      "execution_count": null,
      "metadata": {
        "id": "6FyEPRdvrosl"
      },
      "outputs": [],
      "source": []
    }
  ],
  "metadata": {
    "colab": {
      "provenance": [],
      "authorship_tag": "ABX9TyOsyUDpfuQKgVRuEsxOu3oF",
      "include_colab_link": true
    },
    "kernelspec": {
      "display_name": "Python 3",
      "name": "python3"
    },
    "language_info": {
      "name": "python"
    }
  },
  "nbformat": 4,
  "nbformat_minor": 0
}