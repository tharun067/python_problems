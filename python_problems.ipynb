{
 "cells": [
  {
   "cell_type": "code",
   "execution_count": 1,
   "metadata": {},
   "outputs": [
    {
     "name": "stdout",
     "output_type": "stream",
     "text": [
      "The sum of n even numbers:  20\n"
     ]
    }
   ],
   "source": [
    "def sum(n):\n",
    "    total=0\n",
    "    for i in range(n):\n",
    "        if i%2==0:\n",
    "            total+=i\n",
    "    return total\n",
    "n=int(input(\"Enter the input value: \"))\n",
    "print(\"The sum of n even numbers: \",sum(n))"
   ]
  }
 ],
 "metadata": {
  "kernelspec": {
   "display_name": "base",
   "language": "python",
   "name": "python3"
  },
  "language_info": {
   "codemirror_mode": {
    "name": "ipython",
    "version": 3
   },
   "file_extension": ".py",
   "mimetype": "text/x-python",
   "name": "python",
   "nbconvert_exporter": "python",
   "pygments_lexer": "ipython3",
   "version": "3.9.13"
  }
 },
 "nbformat": 4,
 "nbformat_minor": 2
}
