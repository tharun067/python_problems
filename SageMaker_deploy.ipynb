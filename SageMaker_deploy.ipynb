{
  "nbformat": 4,
  "nbformat_minor": 0,
  "metadata": {
    "colab": {
      "provenance": [],
      "authorship_tag": "ABX9TyMXFs7j6ovefsod+vJuHp1W",
      "include_colab_link": true
    },
    "kernelspec": {
      "name": "python3",
      "display_name": "Python 3"
    },
    "language_info": {
      "name": "python"
    }
  },
  "cells": [
    {
      "cell_type": "markdown",
      "metadata": {
        "id": "view-in-github",
        "colab_type": "text"
      },
      "source": [
        "<a href=\"https://colab.research.google.com/github/tharun067/python_problems/blob/main/SageMaker_deploy.ipynb\" target=\"_parent\"><img src=\"https://colab.research.google.com/assets/colab-badge.svg\" alt=\"Open In Colab\"/></a>"
      ]
    },
    {
      "cell_type": "code",
      "execution_count": null,
      "metadata": {
        "id": "MA964DxB_lEq"
      },
      "outputs": [],
      "source": [
        "import sagemaker\n",
        "import boto3\n",
        "import pandas as pd\n",
        "# Initialize SageMaker session\n",
        "sagemaker_session = sagemaker.Session()\n",
        "# Get the SageMaker execution role\n",
        "role = sagemaker.get_execution_role()\n",
        "# S3 bucket for storing data\n",
        "bucket = sagemaker_session.default_bucket()\n",
        "prefix = \"nlp-model-demo\""
      ]
    },
    {
      "cell_type": "code",
      "source": [
        "# Load dataset\n",
        "df = pd.read_csv(\"Reviews.csv\")  # Ensure the dataset is available locally\n",
        "# Keep only required columns\n",
        "df = df[[\"Text\", \"Score\"]].dropna()\n",
        "# Convert scores into binary sentiment (1 = Positive, 0 = Negative)\n",
        "df[\"Sentiment\"] = df[\"Score\"].apply(lambda x: 1 if x > 3 else 0)\n",
        "df = df[[\"Text\", \"Sentiment\"]]\n",
        "# Save processed data\n",
        "df.to_csv(\"processed_reviews.csv\", index=False)\n",
        "# Upload to S3\n",
        "s3 = boto3.client(\"s3\")\n",
        "s3.upload_file(\"processed_reviews.csv\", bucket, f\"{prefix}/processed_reviews.csv\")\n",
        "# Store S3 path\n",
        "s3_train_data = f\"s3://{bucket}/{prefix}/processed_reviews.csv\"\n",
        "print(\"Data uploaded to:\", s3_train_data)"
      ],
      "metadata": {
        "id": "JvMMdUtvAIqu"
      },
      "execution_count": null,
      "outputs": []
    },
    {
      "cell_type": "code",
      "source": [
        "import argparse\n",
        "import os\n",
        "import pandas as pd\n",
        "import joblib\n",
        "from sklearn.feature_extraction.text import TfidfVectorizer\n",
        "from sklearn.linear_model import LogisticRegression\n",
        "from sklearn.pipeline import Pipeline\n",
        "def train():\n",
        "    # Argument parser for SageMaker input\n",
        "    parser = argparse.ArgumentParser()\n",
        "    parser.add_argument(\"--train_data\", type=str, default=os.environ[\"SM_CHANNEL_TRAIN\"])\n",
        "    args = parser.parse_args()\n",
        "    # Load dataset from the provided path\n",
        "    train_data_path = os.path.join(args.train_data, \"processed_reviews.csv\")\n",
        "    df = pd.read_csv(train_data_path)\n",
        "   # Split data\n",
        "    X = df[\"Text\"]\n",
        "    y = df[\"Sentiment\"]\n",
        "    # Create a text-processing pipeline\n",
        "    pipeline = Pipeline([\n",
        "        (\"tfidf\", TfidfVectorizer(stop_words=\"english\")),\n",
        "        (\"clf\", LogisticRegression())\n",
        "    ])\n",
        "    # Train model\n",
        "    pipeline.fit(X, y)\n",
        "    # Save trained model\n",
        "    model_path = os.path.join(\"/opt/ml/model\", \"model.joblib\")\n",
        "    joblib.dump(pipeline, model_path)\n",
        "    print(\"Model saved at\", model_path)\n",
        "\n",
        "if __name__ == \"__main__\":\n",
        "    train()"
      ],
      "metadata": {
        "id": "e9drsfnxCHPG"
      },
      "execution_count": null,
      "outputs": []
    },
    {
      "cell_type": "code",
      "source": [
        "from sagemaker.sklearn.estimator import SKLearn\n",
        "# Define SageMaker SKLearn Estimator\n",
        "sklearn_estimator = SKLearn(\n",
        "    entry_point=\"train.py\",\n",
        "    framework_version=\"0.23-1\",\n",
        "    instance_type=\"ml.m5.large\",\n",
        "    role=role,\n",
        "    sagemaker_session=sagemaker_session,\n",
        ")\n",
        "# Train the model on SageMaker\n",
        "sklearn_estimator.fit({\"train\": s3_train_data})"
      ],
      "metadata": {
        "id": "gUgffCeKGvK2"
      },
      "execution_count": null,
      "outputs": []
    },
    {
      "cell_type": "code",
      "source": [
        "%%writefile inference.py\n",
        "\n",
        "import joblib\n",
        "\n",
        "import os\n",
        "\n",
        "import json\n",
        "\n",
        "import pandas as pd\n",
        "\n",
        "# Load trained model\n",
        "\n",
        "def model_fn(model_dir):\n",
        "    model_path = os.path.join(model_dir, \"model.joblib\")\n",
        "    return joblib.load(model_path)\n",
        "# Parse input JSON\n",
        "def input_fn(request_body, request_content_type):\n",
        "    if request_content_type == \"application/json\":\n",
        "        data = json.loads(request_body)\n",
        "        return pd.DataFrame(data, columns=[\"Text\"])\n",
        "    else:\n",
        "        raise ValueError(\"Unsupported content type: {}\".format(request_content_type))\n",
        "# Generate predictions\n",
        "def predict_fn(input_data, model):\n",
        "    return model.predict(input_data[\"Text\"]).tolist()"
      ],
      "metadata": {
        "id": "eJC2UhALG5OS"
      },
      "execution_count": null,
      "outputs": []
    },
    {
      "cell_type": "code",
      "source": [
        "from sagemaker.sklearn.model import SKLearnModel\n",
        "# Get model path from training job\n",
        "model_data = sklearn_estimator.model_data\n",
        "# Create a SageMaker model\n",
        "sklearn_model = SKLearnModel(\n",
        "    model_data=model_data,\n",
        "    role=role,\n",
        "    entry_point=\"inference.py\",\n",
        "    framework_version=\"0.23-1\",\n",
        "    sagemaker_session=sagemaker_session,\n",
        ")\n",
        "# Deploy the model to a real-time endpoint\n",
        "predictor = sklearn_model.deploy(instance_type=\"ml.m5.large\", initial_instance_count=1)"
      ],
      "metadata": {
        "id": "POUCScfwIgsL"
      },
      "execution_count": null,
      "outputs": []
    },
    {
      "cell_type": "code",
      "source": [
        "import json\n",
        "# Sample test data\n",
        "test_data = json.dumps([\"This product is amazing!\", \"Worst product ever.\"])\n",
        "response = predictor.predict(test_data)\n",
        "print(\"Predictions:\", response)"
      ],
      "metadata": {
        "id": "n4uQ5-6eIpx8"
      },
      "execution_count": null,
      "outputs": []
    },
    {
      "cell_type": "code",
      "source": [
        "# Delete the SageMaker endpoint\n",
        "predictor.delete_endpoint()"
      ],
      "metadata": {
        "id": "f-g-xihLKfB6"
      },
      "execution_count": null,
      "outputs": []
    }
  ]
}