{
 "cells": [
  {
   "cell_type": "markdown",
   "id": "a74d6f1a-3bbf-4c97-acf8-5e1efc5b68de",
   "metadata": {},
   "source": [
    "Write a Python program to classify text using an ensemble model (`RandomForestClassifier`) from `sklearn.ensemble`. \n",
    "Use `TfidfVectorizer` to convert text into numerical format.\n",
    "Example input:\n",
    "    [\"Buy now and win a prize\", \"Normal email content\", \"Congratulations, you won!\"]"
   ]
  },
  {
   "cell_type": "code",
   "execution_count": 1,
   "id": "d63af68a-f136-4a9b-bf6f-c3e9c7a89499",
   "metadata": {},
   "outputs": [
    {
     "name": "stdout",
     "output_type": "stream",
     "text": [
      "Predicted category: spam\n"
     ]
    }
   ],
   "source": [
    "from sklearn.feature_extraction.text import TfidfVectorizer\n",
    "from sklearn.ensemble import RandomForestClassifier\n",
    "from sklearn.pipeline import make_pipeline\n",
    "\n",
    "def train_and_predict(train_texts, train_labels, test_text):\n",
    "    # Create a pipeline with TfidfVectorizer and RandomForestClassifier\n",
    "    model = make_pipeline(TfidfVectorizer(), RandomForestClassifier(n_estimators=100, random_state=42))\n",
    "    \n",
    "    # Train the model\n",
    "    model.fit(train_texts, train_labels)\n",
    "    \n",
    "    # Predict the category of the test text\n",
    "    predicted_label = model.predict([test_text])[0]\n",
    "    \n",
    "    print(f\"Predicted category: {predicted_label}\")\n",
    "\n",
    "# Example training data\n",
    "train_texts = [\n",
    "    \"Buy now and win a prize\",\n",
    "    \"Normal email content\",\n",
    "    \"Congratulations, you won!\",\n",
    "    \"Limited time offer, act now!\",\n",
    "    \"Let's schedule a meeting\"\n",
    "]\n",
    "train_labels = [\"spam\", \"ham\", \"spam\", \"spam\", \"ham\"]\n",
    "\n",
    "test_text = \"Exclusive deal just for you\"\n",
    "\n",
    "train_and_predict(train_texts, train_labels, test_text)"
   ]
  }
 ],
 "metadata": {
  "kernelspec": {
   "display_name": "Python 3 (ipykernel)",
   "language": "python",
   "name": "python3"
  },
  "language_info": {
   "codemirror_mode": {
    "name": "ipython",
    "version": 3
   },
   "file_extension": ".py",
   "mimetype": "text/x-python",
   "name": "python",
   "nbconvert_exporter": "python",
   "pygments_lexer": "ipython3",
   "version": "3.12.4"
  }
 },
 "nbformat": 4,
 "nbformat_minor": 5
}
