{
  "nbformat": 4,
  "nbformat_minor": 0,
  "metadata": {
    "colab": {
      "provenance": [],
      "authorship_tag": "ABX9TyMwIel0EC805JZUlPvtBTR0",
      "include_colab_link": true
    },
    "kernelspec": {
      "name": "python3",
      "display_name": "Python 3"
    },
    "language_info": {
      "name": "python"
    }
  },
  "cells": [
    {
      "cell_type": "markdown",
      "metadata": {
        "id": "view-in-github",
        "colab_type": "text"
      },
      "source": [
        "<a href=\"https://colab.research.google.com/github/tharun067/python_problems/blob/main/AD(NLP)_4.ipynb\" target=\"_parent\"><img src=\"https://colab.research.google.com/assets/colab-badge.svg\" alt=\"Open In Colab\"/></a>"
      ]
    },
    {
      "cell_type": "code",
      "source": [
        "!pip install emot"
      ],
      "metadata": {
        "colab": {
          "base_uri": "https://localhost:8080/"
        },
        "id": "1ypw6itCwpQO",
        "outputId": "6f60c7aa-3ea7-4adf-98b5-e21b344ba8ba"
      },
      "execution_count": 2,
      "outputs": [
        {
          "output_type": "stream",
          "name": "stdout",
          "text": [
            "Collecting emot\n",
            "  Downloading emot-3.1-py3-none-any.whl.metadata (396 bytes)\n",
            "Downloading emot-3.1-py3-none-any.whl (61 kB)\n",
            "\u001b[?25l   \u001b[90m━━━━━━━━━━━━━━━━━━━━━━━━━━━━━━━━━━━━━━━━\u001b[0m \u001b[32m0.0/61.5 kB\u001b[0m \u001b[31m?\u001b[0m eta \u001b[36m-:--:--\u001b[0m\r\u001b[2K   \u001b[90m━━━━━━━━━━━━━━━━━━━━━━━━━━━━━━━━━━━━━━━━\u001b[0m \u001b[32m61.5/61.5 kB\u001b[0m \u001b[31m2.2 MB/s\u001b[0m eta \u001b[36m0:00:00\u001b[0m\n",
            "\u001b[?25hInstalling collected packages: emot\n",
            "Successfully installed emot-3.1\n"
          ]
        }
      ]
    },
    {
      "cell_type": "code",
      "execution_count": 7,
      "metadata": {
        "id": "Mu2K2tayv9nK"
      },
      "outputs": [],
      "source": [
        "text1=\"What are you saying 😂.I am the boss 😎,and why are you so 😔\""
      ]
    },
    {
      "cell_type": "code",
      "source": [
        "import re\n",
        "from emot.emo_unicode import UNICODE_EMOJI\n",
        "from emot.emo_unicode import EMOTICONS_EMO"
      ],
      "metadata": {
        "id": "ekdXj1Rww45V"
      },
      "execution_count": 4,
      "outputs": []
    },
    {
      "cell_type": "code",
      "source": [
        "def converting_emojis(text):\n",
        "  for emot in UNICODE_EMOJI:\n",
        "    text = text.replace(emot,\"_\".join(UNICODE_EMOJI[emot].replace(\",\",\"\")\\\n",
        "                                      .replace(\":\",\"\").split()))\n",
        "  return text\n",
        "converting_emojis(text1)"
      ],
      "metadata": {
        "colab": {
          "base_uri": "https://localhost:8080/",
          "height": 53
        },
        "id": "81MQ7hcGxdAo",
        "outputId": "a184d86f-384e-4cf7-e6b4-4502b3b1bca3"
      },
      "execution_count": 8,
      "outputs": [
        {
          "output_type": "execute_result",
          "data": {
            "text/plain": [
              "'What are you saying face_with_tears_of_joy.I am the boss smiling_face_with_sunglasses,and why are you so pensive_face'"
            ],
            "application/vnd.google.colaboratory.intrinsic+json": {
              "type": "string"
            }
          },
          "metadata": {},
          "execution_count": 8
        }
      ]
    },
    {
      "cell_type": "code",
      "source": [
        "def emoji_removal(string):\n",
        "\n",
        "    emoji_unicodes = re.compile(\"[\"\n",
        "\n",
        "                               u\"\\U0001F600-\\U0001F64F\"  # emoticons\n",
        "\n",
        "                               u\"\\U0001F300-\\U0001F5FF\"  # symbols\n",
        "\n",
        "                               u\"\\U0001F680-\\U0001F6FF\"  # transport\n",
        "\n",
        "                               u\"\\U0001F1E0-\\U0001F1FF\"  # flags (iOS)\n",
        "\n",
        "                               u\"\\U00002500-\\U00002BEF\"\n",
        "\n",
        "                               u\"\\U00002702-\\U000027B0\"\n",
        "\n",
        "                               u\"\\U000024C2-\\U0001F251\"\n",
        "\n",
        "                               u\"\\U0001f926-\\U0001f937\"\n",
        "\n",
        "                               u\"\\U00010000-\\U0010ffff\"\n",
        "                               u\"\\u2640-\\u2642\"\n",
        "\n",
        "                               u\"\\u2600-\\u2B55\"\n",
        "\n",
        "                               u\"\\u200d\"\n",
        "\n",
        "                               u\"\\u23cf\"\n",
        "\n",
        "                               u\"\\u23e9\"\n",
        "\n",
        "                               u\"\\u231a\"\n",
        "\n",
        "                               u\"\\ufe0f\"\n",
        "\n",
        "                               u\"\\u3030\"\n",
        "\n",
        "                               \"]+\", flags=re.UNICODE)\n",
        "\n",
        "    return emoji_unicodes.sub(r'', string)\n",
        "\n",
        "emoji_removal(text1)"
      ],
      "metadata": {
        "colab": {
          "base_uri": "https://localhost:8080/",
          "height": 36
        },
        "id": "2EVX-PTkx-nR",
        "outputId": "ac69590e-bc38-433f-b964-29beb0278610"
      },
      "execution_count": 9,
      "outputs": [
        {
          "output_type": "execute_result",
          "data": {
            "text/plain": [
              "'What are you saying .I am the boss ,and why are you so '"
            ],
            "application/vnd.google.colaboratory.intrinsic+json": {
              "type": "string"
            }
          },
          "metadata": {},
          "execution_count": 9
        }
      ]
    },
    {
      "cell_type": "code",
      "source": [],
      "metadata": {
        "id": "pkymm6VR0F9j"
      },
      "execution_count": null,
      "outputs": []
    }
  ]
}