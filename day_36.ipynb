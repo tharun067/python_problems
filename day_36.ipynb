{
 "cells": [
  {
   "cell_type": "markdown",
   "id": "5957bf25-98c5-4fc3-a873-2c1cde5e0831",
   "metadata": {},
   "source": [
    "Write a Python program to perform text classification using a Naïve Bayes classifier (`MultinomialNB`) from `sklearn.naive_bayes`. \n",
    "Train the model using sample text data and predict the category of a given new text.\n",
    "Example input:\n",
    "    [\"I love programming\", \"Python is great\", \"Machine learning is amazing\"]\n"
   ]
  },
  {
   "cell_type": "code",
   "execution_count": 1,
   "id": "058b60ed-d059-4c45-8344-fa4a615e176c",
   "metadata": {},
   "outputs": [
    {
     "name": "stdout",
     "output_type": "stream",
     "text": [
      "Predicted category: tech\n"
     ]
    }
   ],
   "source": [
    "from sklearn.feature_extraction.text import CountVectorizer\n",
    "from sklearn.naive_bayes import MultinomialNB\n",
    "from sklearn.pipeline import make_pipeline\n",
    "\n",
    "def train_and_predict(train_texts, train_labels, test_text):\n",
    "    # Create a pipeline with CountVectorizer and MultinomialNB\n",
    "    model = make_pipeline(CountVectorizer(), MultinomialNB())\n",
    "    \n",
    "    # Train the model\n",
    "    model.fit(train_texts, train_labels)\n",
    "    \n",
    "    # Predict the category of the test text\n",
    "    predicted_label = model.predict([test_text])[0]\n",
    "    \n",
    "    print(f\"Predicted category: {predicted_label}\")\n",
    "\n",
    "# Example training data\n",
    "train_texts = [\n",
    "    \"I love programming\",\n",
    "    \"Python is great\",\n",
    "    \"Machine learning is amazing\",\n",
    "    \"Deep learning is powerful\",\n",
    "    \"Software development is fun\"\n",
    "]\n",
    "train_labels = [\"tech\", \"tech\", \"ai\", \"ai\", \"tech\"]\n",
    "\n",
    "test_text = \"Neural networks are interesting\"\n",
    "\n",
    "train_and_predict(train_texts, train_labels, test_text)\n"
   ]
  }
 ],
 "metadata": {
  "kernelspec": {
   "display_name": "Python 3 (ipykernel)",
   "language": "python",
   "name": "python3"
  },
  "language_info": {
   "codemirror_mode": {
    "name": "ipython",
    "version": 3
   },
   "file_extension": ".py",
   "mimetype": "text/x-python",
   "name": "python",
   "nbconvert_exporter": "python",
   "pygments_lexer": "ipython3",
   "version": "3.12.4"
  }
 },
 "nbformat": 4,
 "nbformat_minor": 5
}
