{
 "cells": [
  {
   "cell_type": "markdown",
   "metadata": {},
   "source": [
    "Write a Python program to create a simple chatbot that responds to user input. Use an if-else statement to reply to 'Hello' with 'Hi! How can I help you?' and to 'Bye' with 'Goodbye! Have a nice day!'."
   ]
  },
  {
   "cell_type": "code",
   "execution_count": 1,
   "metadata": {},
   "outputs": [
    {
     "name": "stdout",
     "output_type": "stream",
     "text": [
      "Bot: Hi! How can I help you?\n",
      "Bot: Goodbye! Have a nice day!\n"
     ]
    }
   ],
   "source": [
    "def simple_chatbot():\n",
    "    while True:\n",
    "        user_input = input(\"You: \").strip()\n",
    "        \n",
    "        if user_input.lower() == \"hello\":\n",
    "            print(\"Bot: Hi! How can I help you?\")\n",
    "        elif user_input.lower() == \"bye\":\n",
    "            print(\"Bot: Goodbye! Have a nice day!\")\n",
    "            break\n",
    "        else:\n",
    "            print(\"Bot: I'm sorry, I don't understand that.\")\n",
    "\n",
    "# Run the chatbot\n",
    "simple_chatbot()"
   ]
  }
 ],
 "metadata": {
  "kernelspec": {
   "display_name": "base",
   "language": "python",
   "name": "python3"
  },
  "language_info": {
   "codemirror_mode": {
    "name": "ipython",
    "version": 3
   },
   "file_extension": ".py",
   "mimetype": "text/x-python",
   "name": "python",
   "nbconvert_exporter": "python",
   "pygments_lexer": "ipython3",
   "version": "3.12.4"
  }
 },
 "nbformat": 4,
 "nbformat_minor": 2
}
