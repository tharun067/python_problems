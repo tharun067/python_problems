{
 "cells": [
  {
   "cell_type": "markdown",
   "id": "c513290e-b02e-4e34-95de-1f947eb4bbe3",
   "metadata": {},
   "source": [
    "Write a Python program to convert a given text into a Bag of Words (BoW) representation using `CountVectorizer` from `sklearn.feature_extraction.text`. \n",
    "Also, compute the TF-IDF representation using `TfidfVectorizer`.\n",
    "Example input:\n",
    "    [\"I love machine learning\", \"Machine learning is fun\", \"Deep learning is amazing\"]\n"
   ]
  },
  {
   "cell_type": "code",
   "execution_count": 1,
   "id": "5a61e028-50c6-4a0f-938f-1f495cc8a1f3",
   "metadata": {},
   "outputs": [
    {
     "name": "stdout",
     "output_type": "stream",
     "text": [
      "Bag of Words Representation:\n",
      "['amazing' 'deep' 'fun' 'is' 'learning' 'love' 'machine']\n",
      "[[0 0 0 0 1 1 1]\n",
      " [0 0 1 1 1 0 1]\n",
      " [1 1 0 1 1 0 0]]\n",
      "\n",
      "TF-IDF Representation:\n",
      "['amazing' 'deep' 'fun' 'is' 'learning' 'love' 'machine']\n",
      "[[0.         0.         0.         0.         0.42544054 0.72033345\n",
      "  0.54783215]\n",
      " [0.         0.         0.63174505 0.4804584  0.37311881 0.\n",
      "  0.4804584 ]\n",
      " [0.5844829  0.5844829  0.         0.44451431 0.34520502 0.\n",
      "  0.        ]]\n"
     ]
    }
   ],
   "source": [
    "from sklearn.feature_extraction.text import CountVectorizer, TfidfVectorizer\n",
    "\n",
    "def bow_and_tfidf(texts):\n",
    "    # Bag of Words (BoW) Representation\n",
    "    count_vectorizer = CountVectorizer()\n",
    "    bow_matrix = count_vectorizer.fit_transform(texts)\n",
    "    \n",
    "    print(\"Bag of Words Representation:\")\n",
    "    print(count_vectorizer.get_feature_names_out())\n",
    "    print(bow_matrix.toarray())\n",
    "    print()\n",
    "    \n",
    "    # TF-IDF Representation\n",
    "    tfidf_vectorizer = TfidfVectorizer()\n",
    "    tfidf_matrix = tfidf_vectorizer.fit_transform(texts)\n",
    "    \n",
    "    print(\"TF-IDF Representation:\")\n",
    "    print(tfidf_vectorizer.get_feature_names_out())\n",
    "    print(tfidf_matrix.toarray())\n",
    "\n",
    "# Example input texts\n",
    "texts = [\n",
    "    \"I love machine learning\",\n",
    "    \"Machine learning is fun\",\n",
    "    \"Deep learning is amazing\"\n",
    "]\n",
    "\n",
    "bow_and_tfidf(texts)\n"
   ]
  }
 ],
 "metadata": {
  "kernelspec": {
   "display_name": "Python 3 (ipykernel)",
   "language": "python",
   "name": "python3"
  },
  "language_info": {
   "codemirror_mode": {
    "name": "ipython",
    "version": 3
   },
   "file_extension": ".py",
   "mimetype": "text/x-python",
   "name": "python",
   "nbconvert_exporter": "python",
   "pygments_lexer": "ipython3",
   "version": "3.12.4"
  }
 },
 "nbformat": 4,
 "nbformat_minor": 5
}
