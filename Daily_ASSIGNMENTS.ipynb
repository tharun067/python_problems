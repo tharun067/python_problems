{
  "nbformat": 4,
  "nbformat_minor": 0,
  "metadata": {
    "colab": {
      "provenance": [],
      "authorship_tag": "ABX9TyNE5u1Z1j1MowPGwCQn98et",
      "include_colab_link": true
    },
    "kernelspec": {
      "name": "python3",
      "display_name": "Python 3"
    },
    "language_info": {
      "name": "python"
    }
  },
  "cells": [
    {
      "cell_type": "markdown",
      "metadata": {
        "id": "view-in-github",
        "colab_type": "text"
      },
      "source": [
        "<a href=\"https://colab.research.google.com/github/tharun067/python_problems/blob/main/Daily_ASSIGNMENTS.ipynb\" target=\"_parent\"><img src=\"https://colab.research.google.com/assets/colab-badge.svg\" alt=\"Open In Colab\"/></a>"
      ]
    },
    {
      "cell_type": "code",
      "execution_count": 1,
      "metadata": {
        "id": "hyuAlIXZLZWG",
        "colab": {
          "base_uri": "https://localhost:8080/"
        },
        "outputId": "306abd26-59ac-4f6e-c923-4a1afca6dbea"
      },
      "outputs": [
        {
          "output_type": "stream",
          "name": "stdout",
          "text": [
            "Integer Variable: 67 Type: <class 'int'>\n",
            "Float Variable: 20.5 Type: <class 'float'>\n",
            "String Variable: Hello, World! Type: <class 'str'>\n",
            "Boolean Variable: True Type: <class 'bool'>\n"
          ]
        }
      ],
      "source": [
        "#DAY-1\n",
        "integer_val = 67\n",
        "float_val= 20.5\n",
        "string_val = \"Hello, World!\"\n",
        "boolean_val= True\n",
        "print(\"Integer Variable:\", integer_val, \"Type:\", type(integer_val))\n",
        "print(\"Float Variable:\", float_val, \"Type:\", type(float_val))\n",
        "print(\"String Variable:\", string_val, \"Type:\", type(string_val))\n",
        "print(\"Boolean Variable:\", boolean_val, \"Type:\", type(boolean_val))"
      ]
    },
    {
      "cell_type": "code",
      "source": [
        "#DAY-2\n",
        "my_list = [10, 20, 30, 40, 50]\n",
        "my_tuple = (\"apple\", \"banana\", \"cherry\", \"cherry\", \"mango\")\n",
        "my_dict = {\n",
        "    \"name\": \"Joe\",\n",
        "    \"age\": 25,\n",
        "    \"city\": \"New York\",\n",
        "    \"country\": \"USA\",\n",
        "    \"hobby\": \"cricket\"\n",
        "}\n",
        "print(\"Access elements in the List:\")\n",
        "print(\"First element:\", my_list[0])\n",
        "print(\"Third element:\", my_list[2])\n",
        "print(\"Last element:\", my_list[-1])\n",
        "\n",
        "print(\"\\nAccess elements in the Tuple:\")\n",
        "print(\"First element:\", my_tuple[0])\n",
        "print(\"Second element:\", my_tuple[1])\n",
        "print(\"Last element:\", my_tuple[-1])\n",
        "\n",
        "print(\"\\nAccess elements in the Dictionary:\")\n",
        "print(\"Value of 'name':\", my_dict[\"name\"])\n",
        "print(\"Value of 'city':\", my_dict[\"city\"])\n",
        "print(\"Value of 'hobby':\", my_dict[\"hobby\"])\n"
      ],
      "metadata": {
        "colab": {
          "base_uri": "https://localhost:8080/"
        },
        "id": "N_mAzW4jLBGD",
        "outputId": "18368653-c5cf-4307-f5db-d050d809b87c"
      },
      "execution_count": 2,
      "outputs": [
        {
          "output_type": "stream",
          "name": "stdout",
          "text": [
            "Access elements in the List:\n",
            "First element: 10\n",
            "Third element: 30\n",
            "Last element: 50\n",
            "\n",
            "Access elements in the Tuple:\n",
            "First element: apple\n",
            "Second element: banana\n",
            "Last element: mango\n",
            "\n",
            "Access elements in the Dictionary:\n",
            "Value of 'name': Joe\n",
            "Value of 'city': New York\n",
            "Value of 'hobby': cricket\n"
          ]
        }
      ]
    },
    {
      "cell_type": "code",
      "source": [
        "#DAY-3\n",
        "subject1 = float(input(\"Enter marks for Subject 1: \"))\n",
        "subject2 = float(input(\"Enter marks for Subject 2: \"))\n",
        "subject3 = float(input(\"Enter marks for Subject 3: \"))\n",
        "\n",
        "average = (subject1 + subject2 + subject3) / 3\n",
        "\n",
        "if average >= 90:\n",
        "    print(\"Grade: A\")\n",
        "elif 80 <= average < 90:\n",
        "    print(\"Grade: B\")\n",
        "elif 70 <= average < 80:\n",
        "    print(\"Grade: C\")\n",
        "else:\n",
        "    print(\"Grade: Fail\")\n"
      ],
      "metadata": {
        "colab": {
          "base_uri": "https://localhost:8080/"
        },
        "id": "IUelV_HWMF30",
        "outputId": "9b87e275-1358-4375-ec06-48869b879ecf"
      },
      "execution_count": 4,
      "outputs": [
        {
          "output_type": "stream",
          "name": "stdout",
          "text": [
            "Enter marks for Subject 1: 80\n",
            "Enter marks for Subject 2: 90\n",
            "Enter marks for Subject 3: 87\n",
            "Grade: B\n"
          ]
        }
      ]
    },
    {
      "cell_type": "code",
      "source": [
        "#DAY-4\n",
        "def sum(n):\n",
        "    total=0\n",
        "    for i in range(n):\n",
        "        if i%2==0:\n",
        "            total+=i\n",
        "    return total\n",
        "n=int(input(\"Enter the input value: \"))\n",
        "print(\"The sum of n even numbers: \",sum(n))"
      ],
      "metadata": {
        "colab": {
          "base_uri": "https://localhost:8080/"
        },
        "id": "G0wA_4ERMIMI",
        "outputId": "41078119-a062-4446-bceb-81a7cbb323fa"
      },
      "execution_count": 5,
      "outputs": [
        {
          "output_type": "stream",
          "name": "stdout",
          "text": [
            "Enter the input value: 8\n",
            "The sum of n even numbers:  12\n"
          ]
        }
      ]
    },
    {
      "cell_type": "code",
      "source": [
        "#DAY-5\n",
        "text = input(\"Enter the text: \")\n",
        "\n",
        "words = text.lower().split()\n",
        "word_count = {}\n",
        "for word in words:\n",
        "    word_count[word] = word_count.get(word, 0) + 1\n",
        "print(\"\\nWord Frequencies:\")\n",
        "for word, count in word_count.items():\n",
        "    print(f\"{word}: {count}\")\n"
      ],
      "metadata": {
        "colab": {
          "base_uri": "https://localhost:8080/"
        },
        "id": "ObdQGnVeMqf3",
        "outputId": "decd670d-c6f4-4293-bec4-f310287f4880"
      },
      "execution_count": 6,
      "outputs": [
        {
          "output_type": "stream",
          "name": "stdout",
          "text": [
            "Enter the text: hello! this nlp example\n",
            "\n",
            "Word Frequencies:\n",
            "hello!: 1\n",
            "this: 1\n",
            "nlp: 1\n",
            "example: 1\n"
          ]
        }
      ]
    },
    {
      "cell_type": "code",
      "source": [
        "#DAY-6\n",
        "import nltk\n",
        "from nltk.corpus import stopwords\n",
        "import spacy\n",
        "\n",
        "nltk.download('stopwords')\n",
        "\n",
        "nlp = spacy.load('en_core_web_sm')\n",
        "\n",
        "text = input(\"Enter the text: \")\n",
        "\n",
        "doc = nlp(text.lower())\n",
        "stop_words = set(stopwords.words('english'))\n",
        "filtered_words = [token.text for token in doc if token.text not in stop_words]\n",
        "\n",
        "print(\"\\nOriginal Text:\")\n",
        "print(text)\n",
        "print(\"\\nText After Removing Stopwords:\")\n",
        "print(\" \".join(filtered_words))\n"
      ],
      "metadata": {
        "colab": {
          "base_uri": "https://localhost:8080/"
        },
        "id": "w1XlFpeMNIVI",
        "outputId": "9a6db347-82b2-48b9-d390-637b4102a64a"
      },
      "execution_count": 7,
      "outputs": [
        {
          "output_type": "stream",
          "name": "stderr",
          "text": [
            "[nltk_data] Downloading package stopwords to /root/nltk_data...\n",
            "[nltk_data]   Unzipping corpora/stopwords.zip.\n"
          ]
        },
        {
          "output_type": "stream",
          "name": "stdout",
          "text": [
            "Enter the text: This is an example text to display about stopwords\n",
            "\n",
            "Original Text:\n",
            "This is an example text to display about stopwords\n",
            "\n",
            "Text After Removing Stopwords:\n",
            "example text display stopwords\n"
          ]
        }
      ]
    },
    {
      "cell_type": "code",
      "source": [
        "#DAY-7\n",
        "import gensim\n",
        "from gensim.utils import simple_preprocess\n",
        "from nltk.stem import SnowballStemmer\n",
        "from nltk.corpus import stopwords\n",
        "from gensim.parsing.preprocessing import STOPWORDS\n",
        "from nltk.stem import WordNetLemmatizer\n",
        "stemmer = SnowballStemmer(\"english\")\n",
        "lemmatizer = WordNetLemmatizer()\n",
        "\n",
        "def preprocess_text(text):\n",
        "    tokens = simple_preprocess(text, deacc=True)\n",
        "    tokens = [word for word in tokens if word not in STOPWORDS and word not in stopwords.words('english')]\n",
        "    stemmed_tokens = [stemmer.stem(word) for word in tokens]\n",
        "    lemmatized_tokens = [lemmatizer.lemmatize(word) for word in stemmed_tokens]\n",
        "    return lemmatized_tokens\n",
        "\n",
        "text_data = \"This is an example of preprocessing text data using Gensim, including tokenization, stemming, and lemmatization.\"\n",
        "\n",
        "processed_tokens = preprocess_text(text_data)\n",
        "\n",
        "print(\"Original Text:\")\n",
        "print(text_data)\n",
        "print(\"\\nProcessed Tokens:\")\n",
        "print(processed_tokens)\n"
      ],
      "metadata": {
        "colab": {
          "base_uri": "https://localhost:8080/"
        },
        "id": "17rvX5xYNfd8",
        "outputId": "d4db6bb9-b50a-4b0f-c4ed-97c273374b87"
      },
      "execution_count": 9,
      "outputs": [
        {
          "output_type": "stream",
          "name": "stdout",
          "text": [
            "Original Text:\n",
            "This is an example of preprocessing text data using Gensim, including tokenization, stemming, and lemmatization.\n",
            "\n",
            "Processed Tokens:\n",
            "['exampl', 'preprocess', 'text', 'data', 'gensim', 'includ', 'token', 'stem', 'lemmat']\n"
          ]
        }
      ]
    },
    {
      "cell_type": "code",
      "source": [
        "#DAY-8\n",
        "import nltk\n",
        "from nltk.tokenize import word_tokenize, sent_tokenize\n",
        "sample_paragraph = \"\"\"Natural Language Processing (NLP) is an exciting field of artificial intelligence.\n",
        "It focuses on the interaction between computers and humans through natural language. Tokenization is one of the\n",
        "essential steps in text preprocessing.\"\"\"\n",
        "\n",
        "sentences = sent_tokenize(sample_paragraph)\n",
        "words = word_tokenize(sample_paragraph)\n",
        "print(\"Original Paragraph:\")\n",
        "print(sample_paragraph)\n",
        "print(\"\\nTokenized Sentences:\")\n",
        "print(sentences)\n",
        "print(\"\\nTokenized Words:\")\n",
        "print(words)\n"
      ],
      "metadata": {
        "colab": {
          "base_uri": "https://localhost:8080/"
        },
        "id": "7pz0D9pSNw01",
        "outputId": "c3c0ca6e-ff18-4cc9-8863-edd8650cd6b4"
      },
      "execution_count": 13,
      "outputs": [
        {
          "output_type": "stream",
          "name": "stdout",
          "text": [
            "Original Paragraph:\n",
            "Natural Language Processing (NLP) is an exciting field of artificial intelligence. \n",
            "It focuses on the interaction between computers and humans through natural language. Tokenization is one of the \n",
            "essential steps in text preprocessing.\n",
            "\n",
            "Tokenized Sentences:\n",
            "['Natural Language Processing (NLP) is an exciting field of artificial intelligence.', 'It focuses on the interaction between computers and humans through natural language.', 'Tokenization is one of the \\nessential steps in text preprocessing.']\n",
            "\n",
            "Tokenized Words:\n",
            "['Natural', 'Language', 'Processing', '(', 'NLP', ')', 'is', 'an', 'exciting', 'field', 'of', 'artificial', 'intelligence', '.', 'It', 'focuses', 'on', 'the', 'interaction', 'between', 'computers', 'and', 'humans', 'through', 'natural', 'language', '.', 'Tokenization', 'is', 'one', 'of', 'the', 'essential', 'steps', 'in', 'text', 'preprocessing', '.']\n"
          ]
        }
      ]
    },
    {
      "cell_type": "code",
      "source": [
        "#DAY-9\n",
        "import re\n",
        "\n",
        "def clean_text(text):\n",
        "    cleaned_text = re.sub(r'[^a-zA-Z0-9\\s]', '', text)\n",
        "    cleaned_text = cleaned_text.lower()\n",
        "    return cleaned_text\n",
        "\n",
        "input_text = 'Hello, World! Welcome to NLP 671821.'\n",
        "cleaned_text = clean_text(input_text)\n",
        "print(\"Original Text:\")\n",
        "print(input_text)\n",
        "print(\"\\nCleaned Text:\")\n",
        "print(cleaned_text)\n"
      ],
      "metadata": {
        "colab": {
          "base_uri": "https://localhost:8080/"
        },
        "id": "8hUsRJcDNxb6",
        "outputId": "4537c9e0-e96c-4607-920a-9d0caae01ad8"
      },
      "execution_count": 14,
      "outputs": [
        {
          "output_type": "stream",
          "name": "stdout",
          "text": [
            "Original Text:\n",
            "Hello, World! Welcome to NLP 671821.\n",
            "\n",
            "Cleaned Text:\n",
            "hello world welcome to nlp 671821\n"
          ]
        }
      ]
    },
    {
      "cell_type": "code",
      "source": [
        "#DAY-10\n",
        "import re\n",
        "\n",
        "def extract_emails(text):\n",
        "    email_pattern = r'[a-zA-Z0-9._%+-]+@[a-zA-Z0-9.-]+\\.[a-zA-Z]{2,}'\n",
        "    emails = re.findall(email_pattern, text)\n",
        "    return emails\n",
        "\n",
        "input_text = 'Contact us at support@example.com and sales@example.org.'\n",
        "extracted_emails = extract_emails(input_text)\n",
        "\n",
        "print(\"Original Text:\")\n",
        "print(input_text)\n",
        "print(\"\\nExtracted Email Addresses:\")\n",
        "print(extracted_emails)\n"
      ],
      "metadata": {
        "colab": {
          "base_uri": "https://localhost:8080/"
        },
        "id": "y16zB3rnNxuQ",
        "outputId": "a6ae36df-0487-4615-f89e-333940db30c0"
      },
      "execution_count": 15,
      "outputs": [
        {
          "output_type": "stream",
          "name": "stdout",
          "text": [
            "Original Text:\n",
            "Contact us at support@example.com and sales@example.org.\n",
            "\n",
            "Extracted Email Addresses:\n",
            "['support@example.com', 'sales@example.org']\n"
          ]
        }
      ]
    },
    {
      "cell_type": "code",
      "source": [
        "#DAY-11\n",
        "import requests\n",
        "from bs4 import BeautifulSoup\n",
        "\n",
        "def fetch_webpage_title(url):\n",
        "    try:\n",
        "        response = requests.get(url)\n",
        "        response.raise_for_status()\n",
        "        soup = BeautifulSoup(response.text, 'html.parser')\n",
        "        title = soup.title.string if soup.title else \"No title found\"\n",
        "        return title\n",
        "    except requests.exceptions.RequestException as e:\n",
        "        return f\"Error fetching the webpage: {e}\"\n",
        "\n",
        "url = 'https://example.com'\n",
        "page_title = fetch_webpage_title(url)\n",
        "\n",
        "print(f\"Title of the webpage '{url}':\")\n",
        "print(page_title)\n"
      ],
      "metadata": {
        "colab": {
          "base_uri": "https://localhost:8080/"
        },
        "id": "svnHM7QDNx-p",
        "outputId": "e3320aa9-432a-4618-b958-88376967d7d4"
      },
      "execution_count": 16,
      "outputs": [
        {
          "output_type": "stream",
          "name": "stdout",
          "text": [
            "Title of the webpage 'https://example.com':\n",
            "Example Domain\n"
          ]
        }
      ]
    },
    {
      "cell_type": "code",
      "source": [
        "#DAY-12\n",
        "from wordcloud import WordCloud\n",
        "import matplotlib.pyplot as plt\n",
        "\n",
        "def generate_wordcloud(text, output_file):\n",
        "    wordcloud = WordCloud(width=800, height=400, background_color='white').generate(text)\n",
        "    plt.figure(figsize=(10, 5))\n",
        "    plt.imshow(wordcloud, interpolation='bilinear')\n",
        "    plt.axis('off')\n",
        "    plt.title(\"Generated WordCloud\", fontsize=16)\n",
        "    plt.show()\n",
        "    wordcloud.to_file(output_file)\n",
        "    print(f\"WordCloud saved as: {output_file}\")\n",
        "\n",
        "\n",
        "text = \"data science machine learning artificial intelligence\"\n",
        "\n",
        "output_image = \"wordcloud.png\"\n",
        "generate_wordcloud(text, output_image)\n"
      ],
      "metadata": {
        "colab": {
          "base_uri": "https://localhost:8080/",
          "height": 463
        },
        "id": "JcfnpINcNyMr",
        "outputId": "11e5afa3-0f39-4a33-f393-3084b7358bf6"
      },
      "execution_count": 17,
      "outputs": [
        {
          "output_type": "display_data",
          "data": {
            "text/plain": [
              "<Figure size 1000x500 with 1 Axes>"
            ],
            "image/png": "[encoded data removed]"
          },
          "metadata": {}
        },
        {
          "output_type": "stream",
          "name": "stdout",
          "text": [
            "WordCloud saved as: wordcloud.png\n"
          ]
        }
      ]
    },
    {
      "cell_type": "code",
      "source": [
        "#DAY-13\n",
        "import spacy\n",
        "\n",
        "def pos_tagging(text):\n",
        "    nlp = spacy.load('en_core_web_sm')\n",
        "    doc = nlp(text)\n",
        "    for token in doc:\n",
        "        print(f\"{token.text}: {token.pos_}\")\n",
        "\n",
        "sentence = \"NLP is amazing and fun to learn.\"\n",
        "\n",
        "pos_tagging(sentence)"
      ],
      "metadata": {
        "colab": {
          "base_uri": "https://localhost:8080/"
        },
        "id": "pQI43zxeNyaK",
        "outputId": "d88bb953-0ebb-470c-a513-dbed04f26484"
      },
      "execution_count": 18,
      "outputs": [
        {
          "output_type": "stream",
          "name": "stdout",
          "text": [
            "NLP: PROPN\n",
            "is: AUX\n",
            "amazing: ADJ\n",
            "and: CCONJ\n",
            "fun: ADJ\n",
            "to: PART\n",
            "learn: VERB\n",
            ".: PUNCT\n"
          ]
        }
      ]
    },
    {
      "cell_type": "code",
      "source": [],
      "metadata": {
        "id": "BA_WsBPEQaLS"
      },
      "execution_count": null,
      "outputs": []
    }
  ]
}