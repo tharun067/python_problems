{
 "cells": [
  {
   "cell_type": "markdown",
   "id": "324ba2fd-2647-4535-ac95-d736551324d7",
   "metadata": {},
   "source": [
    "Write a Python program to classify text using a simple Decision Tree model from `sklearn. tree. DecisionTreeClassifier`. \n",
    "Convert text data into numerical format using `TfidfVectorizer`.\n",
    "Example input:\n",
    "    [\"Spam messages are annoying\", \"I won a lottery\", \"This is a normal message\"]\n"
   ]
  },
  {
   "cell_type": "code",
   "execution_count": 1,
   "id": "f1948ef4-6b16-4938-9b85-f9a653c03884",
   "metadata": {},
   "outputs": [
    {
     "name": "stdout",
     "output_type": "stream",
     "text": [
      "Predicted category: spam\n"
     ]
    }
   ],
   "source": [
    "from sklearn.feature_extraction.text import TfidfVectorizer\n",
    "from sklearn.tree import DecisionTreeClassifier\n",
    "from sklearn.pipeline import make_pipeline\n",
    "\n",
    "def train_and_predict(train_texts, train_labels, test_text):\n",
    "    # Create a pipeline with TfidfVectorizer and DecisionTreeClassifier\n",
    "    model = make_pipeline(TfidfVectorizer(), DecisionTreeClassifier())\n",
    "    \n",
    "    # Train the model\n",
    "    model.fit(train_texts, train_labels)\n",
    "    \n",
    "    # Predict the category of the test text\n",
    "    predicted_label = model.predict([test_text])[0]\n",
    "    \n",
    "    print(f\"Predicted category: {predicted_label}\")\n",
    "\n",
    "# Example training data\n",
    "train_texts = [\n",
    "    \"Spam messages are annoying\",\n",
    "    \"I won a lottery\",\n",
    "    \"This is a normal message\",\n",
    "    \"Claim your prize now\",\n",
    "    \"Meeting at 5 PM tomorrow\"\n",
    "]\n",
    "train_labels = [\"spam\", \"spam\", \"ham\", \"spam\", \"ham\"]\n",
    "\n",
    "test_text = \"You have won a free gift\"\n",
    "\n",
    "train_and_predict(train_texts, train_labels, test_text)\n"
   ]
  }
 ],
 "metadata": {
  "kernelspec": {
   "display_name": "Python 3 (ipykernel)",
   "language": "python",
   "name": "python3"
  },
  "language_info": {
   "codemirror_mode": {
    "name": "ipython",
    "version": 3
   },
   "file_extension": ".py",
   "mimetype": "text/x-python",
   "name": "python",
   "nbconvert_exporter": "python",
   "pygments_lexer": "ipython3",
   "version": "3.12.4"
  }
 },
 "nbformat": 4,
 "nbformat_minor": 5
}
