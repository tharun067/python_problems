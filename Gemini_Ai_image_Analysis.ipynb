{
  "nbformat": 4,
  "nbformat_minor": 0,
  "metadata": {
    "colab": {
      "provenance": [],
      "authorship_tag": "ABX9TyMIsodOzE85MaSdq9rRaNll",
      "include_colab_link": true
    },
    "kernelspec": {
      "name": "python3",
      "display_name": "Python 3"
    },
    "language_info": {
      "name": "python"
    }
  },
  "cells": [
    {
      "cell_type": "markdown",
      "metadata": {
        "id": "view-in-github",
        "colab_type": "text"
      },
      "source": [
        "<a href=\"https://colab.research.google.com/github/tharun067/python_problems/blob/main/Gemini_Ai_image_Analysis.ipynb\" target=\"_parent\"><img src=\"https://colab.research.google.com/assets/colab-badge.svg\" alt=\"Open In Colab\"/></a>"
      ]
    },
    {
      "cell_type": "code",
      "execution_count": 2,
      "metadata": {
        "id": "xWdCU5IX9lKw"
      },
      "outputs": [],
      "source": [
        "import google.generativeai as genai\n",
        "\n",
        "from google.colab import userdata\n",
        "\n",
        "GOOGLE_API_KEY=userdata.get('GOOGLE_API_KEY')\n",
        "\n",
        "genai.configure(api_key=GOOGLE_API_KEY)"
      ]
    },
    {
      "cell_type": "code",
      "source": [
        "import pathlib\n",
        "\n",
        "import textwrap\n",
        "\n",
        "from IPython.display import display, Markdown\n",
        "\n",
        "def to_markdown(text):\n",
        "\n",
        "  text = text.replace('•', '  *')\n",
        "\n",
        "  return Markdown(textwrap.indent(text, '> ', predicate=lambda _: True))"
      ],
      "metadata": {
        "id": "imAtGcbJ95BP"
      },
      "execution_count": 3,
      "outputs": []
    },
    {
      "cell_type": "code",
      "source": [
        "import PIL.Image\n",
        "\n",
        "img = PIL.Image.open('image1.jpg')\n",
        "\n",
        "img\n",
        "\n",
        "model = genai.GenerativeModel('gemini-1.5-flash')\n",
        "\n",
        "response = model.generate_content([\"Write a short, engaging blog post based on this picture.It should include a description of the meal in the photo and talk about my journey meal prepping.\", img],\n",
        "\n",
        "stream=True)\n",
        "\n",
        "response.resolve()\n",
        "to_markdown(response.text)"
      ],
      "metadata": {
        "colab": {
          "base_uri": "https://localhost:8080/",
          "height": 518
        },
        "id": "8Xs7dcAr-RGq",
        "outputId": "305073c8-c20b-45b6-cac4-472dccb0d689"
      },
      "execution_count": 5,
      "outputs": [
        {
          "output_type": "execute_result",
          "data": {
            "text/plain": [
              "<IPython.core.display.Markdown object>"
            ],
            "text/markdown": "> Here's a blog post based on the image:\n> \n> ## My Meal Prep Journey: From Chaos to Colorful Bowls!\n> \n> For years, lunch was a frantic scramble.  Grab-and-go meant unhealthy choices and a constant battle against hunger pangs.  Then, I discovered the magic of meal prepping, and my life (and my waistline) has never been the same!\n> \n> This photo shows the fruits (or should I say, *veggies*) of my labor: two delicious containers of teriyaki chicken and veggies over rice.  Each one is a perfectly balanced portion of protein (tender chicken in a sweet and savory teriyaki sauce), fiber-rich broccoli and colorful carrots, all served atop fluffy white rice.  The colors alone make me happy!\n> \n> My journey into meal prepping wasn't a smooth one at first.  My early attempts were... let's just say ambitious, and often ended in a fridge overflowing with sad, soggy leftovers.  I learned quickly that:\n> \n> * **Planning is key:**  Before I even shop, I create a weekly menu and a shopping list. No more impulse buys!\n> * **Batch cooking is your friend:** Spending a few hours on Sunday prepping ingredients saves me tons of time during the week.\n> * **Containers are crucial:**  Investing in good quality, reusable containers makes all the difference in maintaining freshness and portion control.  (Like the ones in the picture!)\n> * **Variety is the spice of life (and meal prep):** I aim for a mix of flavors and textures to avoid getting bored.\n> \n> It's not always perfect; some weeks are busier than others. But even on those busy days, having healthy, delicious meals ready to go is a game-changer.  It's less stress, more energy, and way more satisfying than another sad desk lunch.  My meal prep journey has been a transformative one.  What about yours? Share your tips in the comments below!\n"
          },
          "metadata": {},
          "execution_count": 5
        }
      ]
    },
    {
      "cell_type": "code",
      "source": [
        "response = model.generate_content([\"Generate an accurate caption for this image.\", img])\n",
        "\n",
        "print(response.text)"
      ],
      "metadata": {
        "colab": {
          "base_uri": "https://localhost:8080/",
          "height": 401
        },
        "id": "uAPt27Xv-r81",
        "outputId": "e6968939-9364-4146-aa21-754e623b7746"
      },
      "execution_count": 6,
      "outputs": [
        {
          "output_type": "stream",
          "name": "stdout",
          "text": [
            "Here are a few caption options for the image:\n",
            "\n",
            "**Option 1 (Simple & Descriptive):**\n",
            "\n",
            "> Healthy and delicious meal prep!  Chicken and broccoli with rice and carrots.\n",
            "\n",
            "**Option 2 (Slightly More Engaging):**\n",
            "\n",
            "> Lunch goals!  These chicken and veggie bowls are perfect for a quick and healthy meal.  #mealprep #healthyfood #lunchideas\n",
            "\n",
            "**Option 3 (Focus on Convenience):**\n",
            "\n",
            "> Easy weeknight dinners just got easier!  Meal prepping made simple with these tasty containers. #mealprepsunday #easyrecipes #healthylifestyle\n",
            "\n",
            "**Option 4 (More Detailed):**\n",
            "\n",
            "> Teriyaki chicken and broccoli rice bowls - the perfect balance of protein, veggies, and carbs.  Made ahead for a stress-free week. #teriyaki #chickendinner #mealprepping\n",
            "\n",
            "\n",
            "Choose the caption that best suits your intended audience and platform.\n",
            "\n"
          ]
        }
      ]
    },
    {
      "cell_type": "code",
      "source": [
        "from PIL import Image\n",
        "\n",
        "# Open an image\n",
        "\n",
        "image_path = \"girl.jpg\"\n",
        "\n",
        "image = Image.open(image_path)\n",
        "\n",
        "# Generate a description of the image\n",
        "\n",
        "response = model.generate_content([\"Describe this image in detail.\", image])\n",
        "\n",
        "print(response.text)"
      ],
      "metadata": {
        "colab": {
          "base_uri": "https://localhost:8080/",
          "height": 263
        },
        "id": "CjnemowUCEYe",
        "outputId": "eea2ea02-5cb2-43b4-b0fa-228d2f72b059"
      },
      "execution_count": 7,
      "outputs": [
        {
          "output_type": "stream",
          "name": "stdout",
          "text": [
            "Here's a description of the image:\n",
            "\n",
            "Close-up view of a woman with medium-brown, curly hair that falls to her shoulders. \n",
            "\n",
            "\n",
            "She's smiling and gesturing with her right hand, pointing to her left with her index finger extended. Her expression is friendly and inviting, suggesting she might be explaining or indicating something.\n",
            "\n",
            "\n",
            "She's wearing a teal or turquoise three-quarter sleeve top or kurta with a small, subtle gold print or pattern all over it. The neckline is a modest, slightly open V-neck style. Her arms are folded across her chest, with one hand pointing.\n",
            "\n",
            "\n",
            "The background is a plain, bright white, which keeps the focus entirely on the woman. The lighting is even and soft, minimizing shadows on her face and clothing. The overall impression is one of a clean, well-lit portrait against a simple backdrop.\n",
            "\n"
          ]
        }
      ]
    },
    {
      "cell_type": "code",
      "source": [
        "response = model.generate_content([\"What emotions can you detect in this image?\", image])\n",
        "\n",
        "print(response.text)"
      ],
      "metadata": {
        "colab": {
          "base_uri": "https://localhost:8080/",
          "height": 176
        },
        "id": "-6AbAYmIE8If",
        "outputId": "193eb88a-7d3d-43fa-864a-119433c1ae41"
      },
      "execution_count": 8,
      "outputs": [
        {
          "output_type": "stream",
          "name": "stdout",
          "text": [
            "The woman in the image appears to be expressing several emotions:\n",
            "\n",
            "* **Happiness/Joy:** Her smile is genuine and bright, suggesting a positive emotional state.\n",
            "* **Confidence:** Her posture and direct gaze contribute to a sense of self-assuredness.  The way she's pointing suggests she's comfortable and knowledgeable.\n",
            "* **Helpfulness/Friendliness:** The pointing gesture implies she's offering information or guidance, indicating a willingness to assist.  The smile further enhances this perception.\n",
            "\n",
            "It's important to note that these are interpretations based on visual cues.  The exact emotional blend may be more nuanced, and other emotions may be present but less prominent.\n",
            "\n"
          ]
        }
      ]
    },
    {
      "cell_type": "code",
      "source": [],
      "metadata": {
        "id": "ThC4kH1qFis6"
      },
      "execution_count": null,
      "outputs": []
    }
  ]
}