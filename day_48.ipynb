{
 "cells": [
  {
   "cell_type": "markdown",
   "metadata": {},
   "source": [
    "Write a Python program using the Hugging Face 'transformers' library to summarize a short paragraph. Use any open source LLM model from the hub."
   ]
  },
  {
   "cell_type": "code",
   "execution_count": null,
   "metadata": {},
   "outputs": [],
   "source": [
    "from transformers import pipeline\n",
    "\n",
    "def summarize_text(text):\n",
    "    summarizer = pipeline(\"summarization\", model=\"facebook/bart-large-cnn\")\n",
    "    summary = summarizer(text, max_length=50, min_length=20, do_sample=False)\n",
    "    return summary[0]['summary_text']\n",
    "\n",
    "# Example usage\n",
    "if __name__ == \"__main__\":\n",
    "    paragraph = (\"Artificial intelligence (AI) is a branch of computer science that aims to create systems \"\n",
    "                 \"capable of performing tasks that require human intelligence. These tasks include learning, \"\n",
    "                 \"reasoning, problem-solving, perception, and language understanding. AI has applications in \"\n",
    "                 \"various industries, including healthcare, finance, and transportation.\")\n",
    "    \n",
    "    print(\"Original Paragraph:\")\n",
    "    print(paragraph)\n",
    "    \n",
    "    print(\"\\nSummarized Text:\")\n",
    "    print(summarize_text(paragraph))\n"
   ]
  }
 ],
 "metadata": {
  "kernelspec": {
   "display_name": "base",
   "language": "python",
   "name": "python3"
  },
  "language_info": {
   "codemirror_mode": {
    "name": "ipython",
    "version": 3
   },
   "file_extension": ".py",
   "mimetype": "text/x-python",
   "name": "python",
   "nbconvert_exporter": "python",
   "pygments_lexer": "ipython3",
   "version": "3.12.4"
  }
 },
 "nbformat": 4,
 "nbformat_minor": 2
}
