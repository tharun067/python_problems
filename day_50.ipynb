{
 "cells": [
  {
   "cell_type": "markdown",
   "metadata": {},
   "source": [
    "Write a Python program to create a simple attention score calculation. Use NumPy to generate random values for query, key, and value vectors, then compute the dot product.\n"
   ]
  },
  {
   "cell_type": "code",
   "execution_count": 1,
   "metadata": {},
   "outputs": [
    {
     "name": "stdout",
     "output_type": "stream",
     "text": [
      "Query Vector:\n",
      " [[0.37454012 0.95071431 0.73199394 0.59865848]]\n",
      "Key Matrix:\n",
      " [[0.15601864 0.15599452 0.05808361 0.86617615]\n",
      " [0.60111501 0.70807258 0.02058449 0.96990985]\n",
      " [0.83244264 0.21233911 0.18182497 0.18340451]\n",
      " [0.30424224 0.52475643 0.43194502 0.29122914]]\n",
      "Value Matrix:\n",
      " [[0.61185289 0.13949386 0.29214465 0.36636184]\n",
      " [0.45606998 0.78517596 0.19967378 0.51423444]\n",
      " [0.59241457 0.04645041 0.60754485 0.17052412]\n",
      " [0.06505159 0.94888554 0.96563203 0.80839735]]\n",
      "Attention Scores:\n",
      " [[0.76780201 1.4940289  0.75654844 1.10337231]]\n",
      "Attention Weights (Softmax):\n",
      " [[0.18332433 0.37898014 0.18127284 0.25642268]]\n",
      "Attention Output:\n",
      " [[0.40907837 0.57487469 0.48697096 0.50025049]]\n"
     ]
    }
   ],
   "source": [
    "import numpy as np\n",
    "\n",
    "def calculate_attention():\n",
    "    np.random.seed(42)  # For reproducibility\n",
    "    \n",
    "    # Generate random query, key, and value vectors\n",
    "    query = np.random.rand(1, 4)  # 1x4 vector\n",
    "    key = np.random.rand(4, 4)    # 4x4 matrix\n",
    "    value = np.random.rand(4, 4)  # 4x4 matrix\n",
    "    \n",
    "    # Compute dot product of query and key (transposed)\n",
    "    attention_scores = np.dot(query, key.T)\n",
    "    \n",
    "    # Apply softmax to normalize scores\n",
    "    attention_weights = np.exp(attention_scores) / np.sum(np.exp(attention_scores))\n",
    "    \n",
    "    # Compute weighted sum of values\n",
    "    attention_output = np.dot(attention_weights, value)\n",
    "    \n",
    "    print(\"Query Vector:\\n\", query)\n",
    "    print(\"Key Matrix:\\n\", key)\n",
    "    print(\"Value Matrix:\\n\", value)\n",
    "    print(\"Attention Scores:\\n\", attention_scores)\n",
    "    print(\"Attention Weights (Softmax):\\n\", attention_weights)\n",
    "    print(\"Attention Output:\\n\", attention_output)\n",
    "\n",
    "if __name__ == \"__main__\":\n",
    "    calculate_attention()\n"
   ]
  }
 ],
 "metadata": {
  "kernelspec": {
   "display_name": "base",
   "language": "python",
   "name": "python3"
  },
  "language_info": {
   "codemirror_mode": {
    "name": "ipython",
    "version": 3
   },
   "file_extension": ".py",
   "mimetype": "text/x-python",
   "name": "python",
   "nbconvert_exporter": "python",
   "pygments_lexer": "ipython3",
   "version": "3.12.4"
  }
 },
 "nbformat": 4,
 "nbformat_minor": 2
}
