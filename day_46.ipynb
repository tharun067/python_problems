{
 "cells": [
  {
   "cell_type": "markdown",
   "metadata": {},
   "source": [
    "Write a Python program that uses a dictionary to define chatbot responses. The chatbot should reply to 'Hello', 'How are you?', and 'Bye' with predefined responses."
   ]
  },
  {
   "cell_type": "code",
   "execution_count": 1,
   "metadata": {},
   "outputs": [
    {
     "name": "stdout",
     "output_type": "stream",
     "text": [
      "Bot: Hi! How can I help you?\n",
      "Bot: Hi! How can I help you?\n",
      "Bot: I'm just a bot, but I'm doing well! How about you?\n",
      "Bot: Goodbye! Have a nice day!\n"
     ]
    }
   ],
   "source": [
    "def simple_chatbot():\n",
    "    responses = {\n",
    "        \"hello\": \"Hi! How can I help you?\",\n",
    "        \"how are you?\": \"I'm just a bot, but I'm doing well! How about you?\",\n",
    "        \"bye\": \"Goodbye! Have a nice day!\"\n",
    "    }\n",
    "    \n",
    "    while True:\n",
    "        user_input = input(\"You: \").strip().lower()\n",
    "        \n",
    "        if user_input in responses:\n",
    "            print(f\"Bot: {responses[user_input]}\")\n",
    "            if user_input == \"bye\":\n",
    "                break\n",
    "        else:\n",
    "            print(\"Bot: I'm sorry, I don't understand that.\")\n",
    "\n",
    "# Run the chatbot\n",
    "simple_chatbot()"
   ]
  }
 ],
 "metadata": {
  "kernelspec": {
   "display_name": "base",
   "language": "python",
   "name": "python3"
  },
  "language_info": {
   "codemirror_mode": {
    "name": "ipython",
    "version": 3
   },
   "file_extension": ".py",
   "mimetype": "text/x-python",
   "name": "python",
   "nbconvert_exporter": "python",
   "pygments_lexer": "ipython3",
   "version": "3.12.4"
  }
 },
 "nbformat": 4,
 "nbformat_minor": 2
}
